{
 "cells": [
  {
   "cell_type": "code",
   "execution_count": 228,
   "id": "ae24cdfc",
   "metadata": {},
   "outputs": [
    {
     "data": {
      "text/plain": [
       "['tmdp_api_results_2019.json',\n",
       " 'basic1_tmdb_data_2013.csv.gz',\n",
       " 'tmdp_api_results_2023.json',\n",
       " 'tmdp_api_results_2015.json',\n",
       " '.DS_Store',\n",
       " 'tmdp_api_results_2014.json',\n",
       " 'tmdp_api_results_2022.json',\n",
       " 'tmdp_api_results_2018.json',\n",
       " 'basic1_tmdb_data_2011.csv.gz',\n",
       " 'tmdp_api_results_2013.json',\n",
       " 'basic1_tmdb_data_2015.csv.gz',\n",
       " 'basic1_tmdb_data_2019.csv.gz',\n",
       " 'final_tmdb_data_2000.csv.gz',\n",
       " 'basic1_tmdb_data_2023.csv.gz',\n",
       " 'title.basics.tsv.gz',\n",
       " 'basic1_tmdb_data_2017.csv.gz',\n",
       " 'basic1_tmdb_data_2021.csv.gz',\n",
       " 'title_basics.csv.gz',\n",
       " 'tmdp_api_results_2012.json',\n",
       " 'tmdp_api_results_2011.json',\n",
       " 'tmdp_api_results 2001.json',\n",
       " 'basic1_tmdb_data_2012.csv.gz',\n",
       " 'all_movies.csv',\n",
       " 'title.ratings.tsv.gz',\n",
       " 'basic1_tmdb_data_2010.csv.gz',\n",
       " 'title-akas-us-only.csv',\n",
       " 'tmdp_api_results 2000.json',\n",
       " 'tmdp_api_results_2010.json',\n",
       " 'final_tmdb_data_2001.csv.gz',\n",
       " '.ipynb_checkpoints',\n",
       " 'tmdp_api_results_2021.json',\n",
       " 'basic1_tmdb_data_2022.csv.gz',\n",
       " 'basic1_tmdb_data_2014.csv.gz',\n",
       " 'basic1_tmdb_data_2018.csv.gz',\n",
       " 'tmdp_api_results_2017.json',\n",
       " 'title-akas-us-only.csv.zip',\n",
       " 'tmdb_results_combined.csv.gz',\n",
       " 'basics_input_part4.csv',\n",
       " 'tmdp_api_results_2016.json',\n",
       " 'basic1_tmdb_data_2020.csv.gz',\n",
       " 'title_basics.csv',\n",
       " 'tmdp_api_results_2020.json',\n",
       " 'basic1_tmdb_data_2016.csv.gz']"
      ]
     },
     "execution_count": 228,
     "metadata": {},
     "output_type": "execute_result"
    }
   ],
   "source": [
    "import pandas as pd\n",
    "import glob\n",
    "import json\n",
    "import os\n",
    "import tmdbsimple as tmdb\n",
    "from tqdm.notebook import tqdm_notebook\n",
    "import scipy.stats as stats\n",
    "from statsmodels.stats.multicomp import pairwise_tukeyhsd\n",
    "\n",
    "#Folder path must end with /\n",
    "FOLDER = \"/Users/echo/Documents/0424_Data_Enrichment/Project-3/Data/\"\n",
    "os.makedirs(FOLDER, exist_ok=True)\n",
    "os.listdir(FOLDER)"
   ]
  },
  {
   "cell_type": "code",
   "execution_count": 168,
   "id": "ac9a9eff",
   "metadata": {},
   "outputs": [],
   "source": [
    "#Loading in API keys\n",
    "with open(\"/Users/echo/Documents/0424_Data_Enrichment/.secret/tmdb_api.json\", \"r\") as f:    \n",
    "    login = json.load(f)\n",
    "## Display the keys of the loaded dict\n",
    "login.keys()    \n",
    "tmdb.API_KEY =  login['api-key']"
   ]
  },
  {
   "cell_type": "code",
   "execution_count": 169,
   "id": "72092847",
   "metadata": {},
   "outputs": [
    {
     "data": {
      "text/html": [
       "<div>\n",
       "<style scoped>\n",
       "    .dataframe tbody tr th:only-of-type {\n",
       "        vertical-align: middle;\n",
       "    }\n",
       "\n",
       "    .dataframe tbody tr th {\n",
       "        vertical-align: top;\n",
       "    }\n",
       "\n",
       "    .dataframe thead th {\n",
       "        text-align: right;\n",
       "    }\n",
       "</style>\n",
       "<table border=\"1\" class=\"dataframe\">\n",
       "  <thead>\n",
       "    <tr style=\"text-align: right;\">\n",
       "      <th></th>\n",
       "      <th>tconst</th>\n",
       "      <th>titleType</th>\n",
       "      <th>primaryTitle</th>\n",
       "      <th>originalTitle</th>\n",
       "      <th>isAdult</th>\n",
       "      <th>startYear</th>\n",
       "      <th>endYear</th>\n",
       "      <th>runtimeMinutes</th>\n",
       "      <th>genres</th>\n",
       "    </tr>\n",
       "  </thead>\n",
       "  <tbody>\n",
       "    <tr>\n",
       "      <th>0</th>\n",
       "      <td>tt0035423</td>\n",
       "      <td>movie</td>\n",
       "      <td>Kate &amp; Leopold</td>\n",
       "      <td>Kate &amp; Leopold</td>\n",
       "      <td>0</td>\n",
       "      <td>2001.0</td>\n",
       "      <td>NaN</td>\n",
       "      <td>118</td>\n",
       "      <td>Comedy,Fantasy,Romance</td>\n",
       "    </tr>\n",
       "    <tr>\n",
       "      <th>1</th>\n",
       "      <td>tt0062336</td>\n",
       "      <td>movie</td>\n",
       "      <td>The Tango of the Widower and Its Distorting Mi...</td>\n",
       "      <td>El tango del viudo y su espejo deformante</td>\n",
       "      <td>0</td>\n",
       "      <td>2020.0</td>\n",
       "      <td>NaN</td>\n",
       "      <td>70</td>\n",
       "      <td>Drama</td>\n",
       "    </tr>\n",
       "    <tr>\n",
       "      <th>2</th>\n",
       "      <td>tt0068865</td>\n",
       "      <td>movie</td>\n",
       "      <td>Lives of Performers</td>\n",
       "      <td>Lives of Performers</td>\n",
       "      <td>0</td>\n",
       "      <td>2016.0</td>\n",
       "      <td>NaN</td>\n",
       "      <td>90</td>\n",
       "      <td>Drama</td>\n",
       "    </tr>\n",
       "    <tr>\n",
       "      <th>3</th>\n",
       "      <td>tt0069049</td>\n",
       "      <td>movie</td>\n",
       "      <td>The Other Side of the Wind</td>\n",
       "      <td>The Other Side of the Wind</td>\n",
       "      <td>0</td>\n",
       "      <td>2018.0</td>\n",
       "      <td>NaN</td>\n",
       "      <td>122</td>\n",
       "      <td>Drama</td>\n",
       "    </tr>\n",
       "    <tr>\n",
       "      <th>4</th>\n",
       "      <td>tt0088751</td>\n",
       "      <td>movie</td>\n",
       "      <td>The Naked Monster</td>\n",
       "      <td>The Naked Monster</td>\n",
       "      <td>0</td>\n",
       "      <td>2005.0</td>\n",
       "      <td>NaN</td>\n",
       "      <td>100</td>\n",
       "      <td>Comedy,Horror,Sci-Fi</td>\n",
       "    </tr>\n",
       "    <tr>\n",
       "      <th>...</th>\n",
       "      <td>...</td>\n",
       "      <td>...</td>\n",
       "      <td>...</td>\n",
       "      <td>...</td>\n",
       "      <td>...</td>\n",
       "      <td>...</td>\n",
       "      <td>...</td>\n",
       "      <td>...</td>\n",
       "      <td>...</td>\n",
       "    </tr>\n",
       "    <tr>\n",
       "      <th>1995</th>\n",
       "      <td>tt0264365</td>\n",
       "      <td>movie</td>\n",
       "      <td>Ancient Warriors</td>\n",
       "      <td>Ancient Warriors</td>\n",
       "      <td>0</td>\n",
       "      <td>2003.0</td>\n",
       "      <td>NaN</td>\n",
       "      <td>99</td>\n",
       "      <td>Action</td>\n",
       "    </tr>\n",
       "    <tr>\n",
       "      <th>1996</th>\n",
       "      <td>tt0264395</td>\n",
       "      <td>movie</td>\n",
       "      <td>Basic</td>\n",
       "      <td>Basic</td>\n",
       "      <td>0</td>\n",
       "      <td>2003.0</td>\n",
       "      <td>NaN</td>\n",
       "      <td>98</td>\n",
       "      <td>Action,Crime,Drama</td>\n",
       "    </tr>\n",
       "    <tr>\n",
       "      <th>1997</th>\n",
       "      <td>tt0264410</td>\n",
       "      <td>movie</td>\n",
       "      <td>Berserker</td>\n",
       "      <td>Berserker</td>\n",
       "      <td>0</td>\n",
       "      <td>2004.0</td>\n",
       "      <td>NaN</td>\n",
       "      <td>84</td>\n",
       "      <td>Action,Adventure,Fantasy</td>\n",
       "    </tr>\n",
       "    <tr>\n",
       "      <th>1998</th>\n",
       "      <td>tt0264425</td>\n",
       "      <td>movie</td>\n",
       "      <td>Bill's Gun Shop</td>\n",
       "      <td>Bill's Gun Shop</td>\n",
       "      <td>0</td>\n",
       "      <td>2001.0</td>\n",
       "      <td>NaN</td>\n",
       "      <td>93</td>\n",
       "      <td>Crime,Drama</td>\n",
       "    </tr>\n",
       "    <tr>\n",
       "      <th>1999</th>\n",
       "      <td>tt0264429</td>\n",
       "      <td>movie</td>\n",
       "      <td>Black Mask 2: City of Masks</td>\n",
       "      <td>Black Mask 2: City of Masks</td>\n",
       "      <td>0</td>\n",
       "      <td>2002.0</td>\n",
       "      <td>NaN</td>\n",
       "      <td>102</td>\n",
       "      <td>Action,Drama,Sci-Fi</td>\n",
       "    </tr>\n",
       "  </tbody>\n",
       "</table>\n",
       "<p>2000 rows × 9 columns</p>\n",
       "</div>"
      ],
      "text/plain": [
       "         tconst titleType                                       primaryTitle  \\\n",
       "0     tt0035423     movie                                     Kate & Leopold   \n",
       "1     tt0062336     movie  The Tango of the Widower and Its Distorting Mi...   \n",
       "2     tt0068865     movie                                Lives of Performers   \n",
       "3     tt0069049     movie                         The Other Side of the Wind   \n",
       "4     tt0088751     movie                                  The Naked Monster   \n",
       "...         ...       ...                                                ...   \n",
       "1995  tt0264365     movie                                   Ancient Warriors   \n",
       "1996  tt0264395     movie                                              Basic   \n",
       "1997  tt0264410     movie                                          Berserker   \n",
       "1998  tt0264425     movie                                    Bill's Gun Shop   \n",
       "1999  tt0264429     movie                        Black Mask 2: City of Masks   \n",
       "\n",
       "                                  originalTitle  isAdult  startYear  endYear  \\\n",
       "0                                Kate & Leopold        0     2001.0      NaN   \n",
       "1     El tango del viudo y su espejo deformante        0     2020.0      NaN   \n",
       "2                           Lives of Performers        0     2016.0      NaN   \n",
       "3                    The Other Side of the Wind        0     2018.0      NaN   \n",
       "4                             The Naked Monster        0     2005.0      NaN   \n",
       "...                                         ...      ...        ...      ...   \n",
       "1995                           Ancient Warriors        0     2003.0      NaN   \n",
       "1996                                      Basic        0     2003.0      NaN   \n",
       "1997                                  Berserker        0     2004.0      NaN   \n",
       "1998                            Bill's Gun Shop        0     2001.0      NaN   \n",
       "1999                Black Mask 2: City of Masks        0     2002.0      NaN   \n",
       "\n",
       "      runtimeMinutes                    genres  \n",
       "0                118    Comedy,Fantasy,Romance  \n",
       "1                 70                     Drama  \n",
       "2                 90                     Drama  \n",
       "3                122                     Drama  \n",
       "4                100      Comedy,Horror,Sci-Fi  \n",
       "...              ...                       ...  \n",
       "1995              99                    Action  \n",
       "1996              98        Action,Crime,Drama  \n",
       "1997              84  Action,Adventure,Fantasy  \n",
       "1998              93               Crime,Drama  \n",
       "1999             102       Action,Drama,Sci-Fi  \n",
       "\n",
       "[2000 rows x 9 columns]"
      ]
     },
     "execution_count": 169,
     "metadata": {},
     "output_type": "execute_result"
    }
   ],
   "source": [
    "# Load in the dataframe from project part 1 as basics:\n",
    "basics = pd.read_csv(\"/Users/echo/Documents/0424_Data_Enrichment/Project-3/Data/basics_input_part4.csv\")\n",
    "basics"
   ]
  },
  {
   "cell_type": "code",
   "execution_count": 170,
   "id": "6f50513a",
   "metadata": {},
   "outputs": [],
   "source": [
    "def get_movie_with_rating(movie_id):\n",
    "    #Get the movie object for the current id\n",
    "    movie = tmdb.Movies(movie_id)\n",
    "    #Save the .info .releases dictionaries\n",
    "    info = movie.info()\n",
    "    releases = movie.releases()\n",
    "    \n",
    "    #Loop thru countries in releases\n",
    "    for c in releases[\"countries\"]:\n",
    "        #if the country abbreviation == US\n",
    "        if c[\"iso_3166_1\"] == \"US\":\n",
    "            #Save a certification key to new column\n",
    "            info[\"certification\"] = c[\"certification\"]\n",
    "    return info"
   ]
  },
  {
   "cell_type": "code",
   "execution_count": 171,
   "id": "6ba5e688",
   "metadata": {},
   "outputs": [
    {
     "data": {
      "text/plain": [
       "dict_keys(['adult', 'backdrop_path', 'belongs_to_collection', 'budget', 'genres', 'homepage', 'id', 'imdb_id', 'original_language', 'original_title', 'overview', 'popularity', 'poster_path', 'production_companies', 'production_countries', 'release_date', 'revenue', 'runtime', 'spoken_languages', 'status', 'tagline', 'title', 'video', 'vote_average', 'vote_count', 'certification'])"
      ]
     },
     "execution_count": 171,
     "metadata": {},
     "output_type": "execute_result"
    }
   ],
   "source": [
    "#Example of what info the custom function returns\n",
    "movie = get_movie_with_rating(\"tt0378194\")\n",
    "movie.keys()"
   ]
  },
  {
   "cell_type": "markdown",
   "id": "a41356b4",
   "metadata": {},
   "source": [
    "# Create Required Lists for the Loop\n",
    "## Define a list of the Years to Extract from the API"
   ]
  },
  {
   "cell_type": "code",
   "execution_count": 172,
   "id": "742b976f",
   "metadata": {},
   "outputs": [],
   "source": [
    "YEARS_TO_GET = range(2010,2024)"
   ]
  },
  {
   "cell_type": "markdown",
   "id": "981848dd",
   "metadata": {},
   "source": [
    "## Define an errors list"
   ]
  },
  {
   "cell_type": "code",
   "execution_count": 173,
   "id": "dc2b7d39",
   "metadata": {},
   "outputs": [],
   "source": [
    "#Create empty list to append errors later on \n",
    "errors = []"
   ]
  },
  {
   "cell_type": "code",
   "execution_count": 174,
   "id": "2355a950",
   "metadata": {},
   "outputs": [],
   "source": [
    "def write_json(new_data, filename): \n",
    "    \"\"\"Appends a list of records (new_data) to a json file (filename). \n",
    "    Adapted from: https://www.geeksforgeeks.org/append-to-json-file-using-python/\"\"\"  \n",
    "    \n",
    "    with open(filename,'r+') as file:\n",
    "        # First we load existing data into a dict.\n",
    "        file_data = json.load(file)\n",
    "        ## Choose extend or append\n",
    "        if (type(new_data) == list) & (type(file_data) == list):\n",
    "            file_data.extend(new_data)\n",
    "        else:\n",
    "             file_data.append(new_data)\n",
    "        # Sets file's current position at offset.\n",
    "        file.seek(0)\n",
    "        # convert back to json.\n",
    "        json.dump(file_data, file)"
   ]
  },
  {
   "cell_type": "markdown",
   "id": "c7f7ad08",
   "metadata": {},
   "source": [
    "## Start OUTER loop"
   ]
  },
  {
   "cell_type": "code",
   "execution_count": 175,
   "id": "03cff17c",
   "metadata": {},
   "outputs": [
    {
     "data": {
      "application/vnd.jupyter.widget-view+json": {
       "model_id": "b1545ee9e7db4e9da81e34bda4f7418b",
       "version_major": 2,
       "version_minor": 0
      },
      "text/plain": [
       "YEARS:   0%|          | 0/14 [00:00<?, ?it/s]"
      ]
     },
     "metadata": {},
     "output_type": "display_data"
    },
    {
     "data": {
      "application/vnd.jupyter.widget-view+json": {
       "model_id": "80f745b6602b49bdbc709570c81e0ca9",
       "version_major": 2,
       "version_minor": 0
      },
      "text/plain": [
       "Movies from 2010:   0%|          | 0/2000 [00:00<?, ?it/s]"
      ]
     },
     "metadata": {},
     "output_type": "display_data"
    },
    {
     "data": {
      "application/vnd.jupyter.widget-view+json": {
       "model_id": "e747b09702874736b6eb545d3245481b",
       "version_major": 2,
       "version_minor": 0
      },
      "text/plain": [
       "Movies from 2011:   0%|          | 0/2000 [00:00<?, ?it/s]"
      ]
     },
     "metadata": {},
     "output_type": "display_data"
    },
    {
     "data": {
      "application/vnd.jupyter.widget-view+json": {
       "model_id": "e15be70c7e544f7f86ef870bf0b0f59f",
       "version_major": 2,
       "version_minor": 0
      },
      "text/plain": [
       "Movies from 2012:   0%|          | 0/2000 [00:00<?, ?it/s]"
      ]
     },
     "metadata": {},
     "output_type": "display_data"
    },
    {
     "data": {
      "application/vnd.jupyter.widget-view+json": {
       "model_id": "26d0b31230f840439f353ab8ea4c466e",
       "version_major": 2,
       "version_minor": 0
      },
      "text/plain": [
       "Movies from 2013:   0%|          | 0/2000 [00:00<?, ?it/s]"
      ]
     },
     "metadata": {},
     "output_type": "display_data"
    },
    {
     "data": {
      "application/vnd.jupyter.widget-view+json": {
       "model_id": "63ff0d78779e4b84a4888c6851d52e2c",
       "version_major": 2,
       "version_minor": 0
      },
      "text/plain": [
       "Movies from 2014:   0%|          | 0/2000 [00:00<?, ?it/s]"
      ]
     },
     "metadata": {},
     "output_type": "display_data"
    },
    {
     "data": {
      "application/vnd.jupyter.widget-view+json": {
       "model_id": "5f8f689968b14e8d824c5b7818181987",
       "version_major": 2,
       "version_minor": 0
      },
      "text/plain": [
       "Movies from 2015:   0%|          | 0/2000 [00:00<?, ?it/s]"
      ]
     },
     "metadata": {},
     "output_type": "display_data"
    },
    {
     "data": {
      "application/vnd.jupyter.widget-view+json": {
       "model_id": "7aef7515a3864953a64cb3cff238ac1f",
       "version_major": 2,
       "version_minor": 0
      },
      "text/plain": [
       "Movies from 2016:   0%|          | 0/2000 [00:00<?, ?it/s]"
      ]
     },
     "metadata": {},
     "output_type": "display_data"
    },
    {
     "data": {
      "application/vnd.jupyter.widget-view+json": {
       "model_id": "d64f2db5b2f1457281fcfa0eaa9eafc8",
       "version_major": 2,
       "version_minor": 0
      },
      "text/plain": [
       "Movies from 2017:   0%|          | 0/2000 [00:00<?, ?it/s]"
      ]
     },
     "metadata": {},
     "output_type": "display_data"
    },
    {
     "data": {
      "application/vnd.jupyter.widget-view+json": {
       "model_id": "a4b165dc5ad74284bd433cfdfa9eb838",
       "version_major": 2,
       "version_minor": 0
      },
      "text/plain": [
       "Movies from 2018:   0%|          | 0/2000 [00:00<?, ?it/s]"
      ]
     },
     "metadata": {},
     "output_type": "display_data"
    },
    {
     "data": {
      "application/vnd.jupyter.widget-view+json": {
       "model_id": "1df05611d8e642039d9a6ed3a0b603d1",
       "version_major": 2,
       "version_minor": 0
      },
      "text/plain": [
       "Movies from 2019:   0%|          | 0/2000 [00:00<?, ?it/s]"
      ]
     },
     "metadata": {},
     "output_type": "display_data"
    },
    {
     "data": {
      "application/vnd.jupyter.widget-view+json": {
       "model_id": "9d6b88de53114e9a96df35c866de3a11",
       "version_major": 2,
       "version_minor": 0
      },
      "text/plain": [
       "Movies from 2020:   0%|          | 0/2000 [00:00<?, ?it/s]"
      ]
     },
     "metadata": {},
     "output_type": "display_data"
    },
    {
     "data": {
      "application/vnd.jupyter.widget-view+json": {
       "model_id": "1a5194d153fb4b7f85a5d221eccc454f",
       "version_major": 2,
       "version_minor": 0
      },
      "text/plain": [
       "Movies from 2021:   0%|          | 0/2000 [00:00<?, ?it/s]"
      ]
     },
     "metadata": {},
     "output_type": "display_data"
    },
    {
     "data": {
      "application/vnd.jupyter.widget-view+json": {
       "model_id": "31f34cb307a94776bda31be773b57d06",
       "version_major": 2,
       "version_minor": 0
      },
      "text/plain": [
       "Movies from 2022:   0%|          | 0/2000 [00:00<?, ?it/s]"
      ]
     },
     "metadata": {},
     "output_type": "display_data"
    },
    {
     "data": {
      "application/vnd.jupyter.widget-view+json": {
       "model_id": "028da4281efb44fe8f2bc5b11dcc8438",
       "version_major": 2,
       "version_minor": 0
      },
      "text/plain": [
       "Movies from 2023:   0%|          | 0/2000 [00:00<?, ?it/s]"
      ]
     },
     "metadata": {},
     "output_type": "display_data"
    },
    {
     "name": "stdout",
     "output_type": "stream",
     "text": [
      "- Total errors: 28000\n"
     ]
    }
   ],
   "source": [
    "# Start of OUTER loop\n",
    "#progress bar based on years_to_get. DESC means Description name\n",
    "for YEAR in tqdm_notebook(YEARS_TO_GET, desc=\"YEARS\", position=0):\n",
    "    #Defining the JSON file to store results for each year\n",
    "    JSON_FILE = f\"{FOLDER}tmdp_api_results_{YEAR}.json\"\n",
    "    # Check if file exists\n",
    "    file_exists = os.path.isfile(JSON_FILE)\n",
    "    # If it does not exist: create it\n",
    "    if file_exists == False:\n",
    "        # save an empty dict to the new json file.\n",
    "        with open(JSON_FILE, \"w\") as f:\n",
    "            json.dump([],f)\n",
    "    #Saving new year as the current df\n",
    "#     df = basics.loc[basics[\"startYear\"] == YEAR].copy()\n",
    "    # saving movie ids to list\n",
    "    movie_ids = basics[\"tconst\"].copy()\n",
    "    # Load existing data from json into a dataframe called \"previous_df\"\n",
    "    previous_df = pd.read_json(JSON_FILE)\n",
    "    # filter out any ids that are already in the JSON_FILE\n",
    "    try:\n",
    "        movie_ids_to_get = movie_ids[~movie_ids.isin(previous_df[\"imdb_id\"])]\n",
    "        movie_ids_to_get\n",
    "    except:\n",
    "        pass\n",
    "    \n",
    "    #Get index and movie id from list\n",
    "    # INNER Loop\n",
    "    for movie_id in tqdm_notebook(movie_ids,\n",
    "                                  desc=f'Movies from {YEAR}',\n",
    "                                  position=1,\n",
    "                                  leave=True):\n",
    "        try:\n",
    "            # Retrieve then data for the movie id\n",
    "            temp = get_movie_with_rating(movie_id)\n",
    "            # Append/extend results to existing file using a pre-made function\n",
    "            write_json(temp,JSON_FILE)\n",
    "            # Short 20 ms sleep to prevent overwhelming server\n",
    "            time.sleep(0.02)\n",
    "            \n",
    "        except Exception as e:\n",
    "            errors.append([movie_id, e])\n",
    "\n",
    "                \n",
    "    final_year_df = pd.read_json(JSON_FILE)\n",
    "    final_year_df.to_csv(f\"{FOLDER}basic1_tmdb_data_{YEAR}.csv.gz\",\n",
    "                        compression=\"gzip\", index=False)\n",
    "print(f\"- Total errors: {len(errors)}\")   "
   ]
  },
  {
   "cell_type": "markdown",
   "id": "b0d78487",
   "metadata": {},
   "source": [
    "# Using glob to get a list of files that match a pattern"
   ]
  },
  {
   "cell_type": "code",
   "execution_count": 176,
   "id": "14090397",
   "metadata": {},
   "outputs": [
    {
     "data": {
      "text/plain": [
       "['Data/basic1_tmdb_data_2010.csv.gz',\n",
       " 'Data/basic1_tmdb_data_2011.csv.gz',\n",
       " 'Data/basic1_tmdb_data_2012.csv.gz',\n",
       " 'Data/basic1_tmdb_data_2013.csv.gz',\n",
       " 'Data/basic1_tmdb_data_2014.csv.gz',\n",
       " 'Data/basic1_tmdb_data_2015.csv.gz',\n",
       " 'Data/basic1_tmdb_data_2016.csv.gz',\n",
       " 'Data/basic1_tmdb_data_2017.csv.gz',\n",
       " 'Data/basic1_tmdb_data_2018.csv.gz',\n",
       " 'Data/basic1_tmdb_data_2019.csv.gz',\n",
       " 'Data/basic1_tmdb_data_2020.csv.gz',\n",
       " 'Data/basic1_tmdb_data_2021.csv.gz',\n",
       " 'Data/basic1_tmdb_data_2022.csv.gz',\n",
       " 'Data/basic1_tmdb_data_2023.csv.gz']"
      ]
     },
     "execution_count": 176,
     "metadata": {},
     "output_type": "execute_result"
    }
   ],
   "source": [
    "#Looking for any files with this pattern and saving to variable\n",
    "q = \"Data/basic1_tmdb_data_20*.csv.gz\"\n",
    "chunked_files = glob.glob(q)\n",
    "# Showing the first 5\n",
    "sorted(chunked_files)"
   ]
  },
  {
   "cell_type": "code",
   "execution_count": 241,
   "id": "8cf27cee",
   "metadata": {},
   "outputs": [
    {
     "name": "stdout",
     "output_type": "stream",
     "text": [
      "Data/basic1_tmdb_data_2013.csv.gz\n",
      "Data/basic1_tmdb_data_2011.csv.gz\n",
      "Data/basic1_tmdb_data_2015.csv.gz\n",
      "Data/basic1_tmdb_data_2019.csv.gz\n",
      "Data/basic1_tmdb_data_2023.csv.gz\n",
      "Data/basic1_tmdb_data_2017.csv.gz\n",
      "Data/basic1_tmdb_data_2021.csv.gz\n",
      "Data/basic1_tmdb_data_2012.csv.gz\n",
      "Data/basic1_tmdb_data_2010.csv.gz\n",
      "Data/basic1_tmdb_data_2022.csv.gz\n",
      "Data/basic1_tmdb_data_2014.csv.gz\n",
      "Data/basic1_tmdb_data_2018.csv.gz\n",
      "Data/basic1_tmdb_data_2020.csv.gz\n",
      "Data/basic1_tmdb_data_2016.csv.gz\n"
     ]
    }
   ],
   "source": [
    "## Loading all files as df and appending to a list\n",
    "df_list = []\n",
    "for file in chunked_files:\n",
    "    print(file)\n",
    "    temp_df = pd.read_csv(f\"{file}\")\n",
    "    df_list.append(temp_df)\n",
    "\n",
    "# Concatenating the list of dfs into 1 combined\n",
    "df_combined = pd.concat(df_list)\n"
   ]
  },
  {
   "cell_type": "code",
   "execution_count": 277,
   "id": "2df39201",
   "metadata": {},
   "outputs": [
    {
     "data": {
      "text/html": [
       "<div>\n",
       "<style scoped>\n",
       "    .dataframe tbody tr th:only-of-type {\n",
       "        vertical-align: middle;\n",
       "    }\n",
       "\n",
       "    .dataframe tbody tr th {\n",
       "        vertical-align: top;\n",
       "    }\n",
       "\n",
       "    .dataframe thead th {\n",
       "        text-align: right;\n",
       "    }\n",
       "</style>\n",
       "<table border=\"1\" class=\"dataframe\">\n",
       "  <thead>\n",
       "    <tr style=\"text-align: right;\">\n",
       "      <th></th>\n",
       "      <th>adult</th>\n",
       "      <th>backdrop_path</th>\n",
       "      <th>belongs_to_collection</th>\n",
       "      <th>budget</th>\n",
       "      <th>genres</th>\n",
       "      <th>homepage</th>\n",
       "      <th>id</th>\n",
       "      <th>imdb_id</th>\n",
       "      <th>original_language</th>\n",
       "      <th>original_title</th>\n",
       "      <th>...</th>\n",
       "      <th>revenue</th>\n",
       "      <th>runtime</th>\n",
       "      <th>spoken_languages</th>\n",
       "      <th>status</th>\n",
       "      <th>tagline</th>\n",
       "      <th>title</th>\n",
       "      <th>video</th>\n",
       "      <th>vote_average</th>\n",
       "      <th>vote_count</th>\n",
       "      <th>certification</th>\n",
       "    </tr>\n",
       "  </thead>\n",
       "  <tbody>\n",
       "    <tr>\n",
       "      <th>0</th>\n",
       "      <td>False</td>\n",
       "      <td>/hfeiSfWYujh6MKhtGTXyK3DD4nN.jpg</td>\n",
       "      <td>NaN</td>\n",
       "      <td>48000000</td>\n",
       "      <td>[{'id': 10749, 'name': 'Romance'}, {'id': 14, ...</td>\n",
       "      <td>NaN</td>\n",
       "      <td>11232</td>\n",
       "      <td>tt0035423</td>\n",
       "      <td>en</td>\n",
       "      <td>Kate &amp; Leopold</td>\n",
       "      <td>...</td>\n",
       "      <td>76019048</td>\n",
       "      <td>118</td>\n",
       "      <td>[{'english_name': 'French', 'iso_639_1': 'fr',...</td>\n",
       "      <td>Released</td>\n",
       "      <td>If they lived in the same century, they'd be p...</td>\n",
       "      <td>Kate &amp; Leopold</td>\n",
       "      <td>False</td>\n",
       "      <td>6.330</td>\n",
       "      <td>1216</td>\n",
       "      <td>PG-13</td>\n",
       "    </tr>\n",
       "    <tr>\n",
       "      <th>1</th>\n",
       "      <td>False</td>\n",
       "      <td>/fw5tsNib4QZBEw18xmebpVe3WZ8.jpg</td>\n",
       "      <td>NaN</td>\n",
       "      <td>0</td>\n",
       "      <td>[{'id': 18, 'name': 'Drama'}, {'id': 14, 'name...</td>\n",
       "      <td>http://poetastros.com/el-tango-del-viudo/</td>\n",
       "      <td>602986</td>\n",
       "      <td>tt0062336</td>\n",
       "      <td>es</td>\n",
       "      <td>El tango del viudo y su espejo deformante</td>\n",
       "      <td>...</td>\n",
       "      <td>0</td>\n",
       "      <td>63</td>\n",
       "      <td>[{'english_name': 'Spanish', 'iso_639_1': 'es'...</td>\n",
       "      <td>Released</td>\n",
       "      <td>NaN</td>\n",
       "      <td>The Tango of the Widower and Its Distorting Mi...</td>\n",
       "      <td>False</td>\n",
       "      <td>6.167</td>\n",
       "      <td>6</td>\n",
       "      <td>NaN</td>\n",
       "    </tr>\n",
       "    <tr>\n",
       "      <th>2</th>\n",
       "      <td>False</td>\n",
       "      <td>/7kIfosP2TlzZeD4a8b2He9COnwg.jpg</td>\n",
       "      <td>NaN</td>\n",
       "      <td>0</td>\n",
       "      <td>[{'id': 18, 'name': 'Drama'}]</td>\n",
       "      <td>NaN</td>\n",
       "      <td>124023</td>\n",
       "      <td>tt0068865</td>\n",
       "      <td>en</td>\n",
       "      <td>Lives of Performers</td>\n",
       "      <td>...</td>\n",
       "      <td>0</td>\n",
       "      <td>90</td>\n",
       "      <td>[{'english_name': 'English', 'iso_639_1': 'en'...</td>\n",
       "      <td>Released</td>\n",
       "      <td>NaN</td>\n",
       "      <td>Lives of Performers</td>\n",
       "      <td>False</td>\n",
       "      <td>5.300</td>\n",
       "      <td>3</td>\n",
       "      <td>NaN</td>\n",
       "    </tr>\n",
       "    <tr>\n",
       "      <th>3</th>\n",
       "      <td>False</td>\n",
       "      <td>/wXUcSJG6dqNKgIRgqYqX98UA1wz.jpg</td>\n",
       "      <td>NaN</td>\n",
       "      <td>12000000</td>\n",
       "      <td>[{'id': 18, 'name': 'Drama'}]</td>\n",
       "      <td>https://www.netflix.com/title/80085566</td>\n",
       "      <td>299782</td>\n",
       "      <td>tt0069049</td>\n",
       "      <td>en</td>\n",
       "      <td>The Other Side of the Wind</td>\n",
       "      <td>...</td>\n",
       "      <td>0</td>\n",
       "      <td>122</td>\n",
       "      <td>[{'english_name': 'English', 'iso_639_1': 'en'...</td>\n",
       "      <td>Released</td>\n",
       "      <td>40 years in the making.</td>\n",
       "      <td>The Other Side of the Wind</td>\n",
       "      <td>False</td>\n",
       "      <td>6.700</td>\n",
       "      <td>185</td>\n",
       "      <td>R</td>\n",
       "    </tr>\n",
       "    <tr>\n",
       "      <th>4</th>\n",
       "      <td>False</td>\n",
       "      <td>NaN</td>\n",
       "      <td>NaN</td>\n",
       "      <td>350000</td>\n",
       "      <td>[{'id': 35, 'name': 'Comedy'}, {'id': 27, 'nam...</td>\n",
       "      <td>NaN</td>\n",
       "      <td>29163</td>\n",
       "      <td>tt0088751</td>\n",
       "      <td>en</td>\n",
       "      <td>The Naked Monster</td>\n",
       "      <td>...</td>\n",
       "      <td>0</td>\n",
       "      <td>100</td>\n",
       "      <td>[{'english_name': 'English', 'iso_639_1': 'en'...</td>\n",
       "      <td>Released</td>\n",
       "      <td>NaN</td>\n",
       "      <td>The Naked Monster</td>\n",
       "      <td>False</td>\n",
       "      <td>4.000</td>\n",
       "      <td>6</td>\n",
       "      <td>NaN</td>\n",
       "    </tr>\n",
       "    <tr>\n",
       "      <th>...</th>\n",
       "      <td>...</td>\n",
       "      <td>...</td>\n",
       "      <td>...</td>\n",
       "      <td>...</td>\n",
       "      <td>...</td>\n",
       "      <td>...</td>\n",
       "      <td>...</td>\n",
       "      <td>...</td>\n",
       "      <td>...</td>\n",
       "      <td>...</td>\n",
       "      <td>...</td>\n",
       "      <td>...</td>\n",
       "      <td>...</td>\n",
       "      <td>...</td>\n",
       "      <td>...</td>\n",
       "      <td>...</td>\n",
       "      <td>...</td>\n",
       "      <td>...</td>\n",
       "      <td>...</td>\n",
       "      <td>...</td>\n",
       "      <td>...</td>\n",
       "    </tr>\n",
       "    <tr>\n",
       "      <th>1954</th>\n",
       "      <td>False</td>\n",
       "      <td>/8h2eom0Wr1ZY3pmzvWefqS2ATFu.jpg</td>\n",
       "      <td>NaN</td>\n",
       "      <td>0</td>\n",
       "      <td>[{'id': 28, 'name': 'Action'}]</td>\n",
       "      <td>NaN</td>\n",
       "      <td>5127</td>\n",
       "      <td>tt0264365</td>\n",
       "      <td>en</td>\n",
       "      <td>Ancient Warriors</td>\n",
       "      <td>...</td>\n",
       "      <td>0</td>\n",
       "      <td>93</td>\n",
       "      <td>[{'english_name': 'English', 'iso_639_1': 'en'...</td>\n",
       "      <td>Released</td>\n",
       "      <td>NaN</td>\n",
       "      <td>Ancient Warriors</td>\n",
       "      <td>False</td>\n",
       "      <td>4.400</td>\n",
       "      <td>5</td>\n",
       "      <td>R</td>\n",
       "    </tr>\n",
       "    <tr>\n",
       "      <th>1955</th>\n",
       "      <td>False</td>\n",
       "      <td>/yJtLib6f8a61mO3u59JRmjQ7IOg.jpg</td>\n",
       "      <td>NaN</td>\n",
       "      <td>50000000</td>\n",
       "      <td>[{'id': 28, 'name': 'Action'}, {'id': 18, 'nam...</td>\n",
       "      <td>NaN</td>\n",
       "      <td>10782</td>\n",
       "      <td>tt0264395</td>\n",
       "      <td>en</td>\n",
       "      <td>Basic</td>\n",
       "      <td>...</td>\n",
       "      <td>42792561</td>\n",
       "      <td>98</td>\n",
       "      <td>[{'english_name': 'English', 'iso_639_1': 'en'...</td>\n",
       "      <td>Released</td>\n",
       "      <td>Deception is their most deadly weapon.</td>\n",
       "      <td>Basic</td>\n",
       "      <td>False</td>\n",
       "      <td>6.519</td>\n",
       "      <td>929</td>\n",
       "      <td>R</td>\n",
       "    </tr>\n",
       "    <tr>\n",
       "      <th>1956</th>\n",
       "      <td>False</td>\n",
       "      <td>/kEI58i7X5EtPFN0xRi76WIysscH.jpg</td>\n",
       "      <td>NaN</td>\n",
       "      <td>0</td>\n",
       "      <td>[{'id': 28, 'name': 'Action'}, {'id': 12, 'nam...</td>\n",
       "      <td>NaN</td>\n",
       "      <td>61714</td>\n",
       "      <td>tt0264410</td>\n",
       "      <td>en</td>\n",
       "      <td>Berserker: Hell's Warrior</td>\n",
       "      <td>...</td>\n",
       "      <td>0</td>\n",
       "      <td>84</td>\n",
       "      <td>[{'english_name': 'English', 'iso_639_1': 'en'...</td>\n",
       "      <td>Released</td>\n",
       "      <td>They fight with the zeal of fanatics, immune t...</td>\n",
       "      <td>Berserker: Hell's Warrior</td>\n",
       "      <td>False</td>\n",
       "      <td>3.400</td>\n",
       "      <td>12</td>\n",
       "      <td>NaN</td>\n",
       "    </tr>\n",
       "    <tr>\n",
       "      <th>1957</th>\n",
       "      <td>False</td>\n",
       "      <td>NaN</td>\n",
       "      <td>NaN</td>\n",
       "      <td>0</td>\n",
       "      <td>[]</td>\n",
       "      <td>NaN</td>\n",
       "      <td>271014</td>\n",
       "      <td>tt0264425</td>\n",
       "      <td>en</td>\n",
       "      <td>Bill's Gun Shop</td>\n",
       "      <td>...</td>\n",
       "      <td>0</td>\n",
       "      <td>0</td>\n",
       "      <td>[]</td>\n",
       "      <td>Released</td>\n",
       "      <td>NaN</td>\n",
       "      <td>Bill's Gun Shop</td>\n",
       "      <td>False</td>\n",
       "      <td>0.000</td>\n",
       "      <td>0</td>\n",
       "      <td>NaN</td>\n",
       "    </tr>\n",
       "    <tr>\n",
       "      <th>1958</th>\n",
       "      <td>False</td>\n",
       "      <td>/2nKl6hYXE14to5uzarH914enfe1.jpg</td>\n",
       "      <td>{'id': 205860, 'name': 'The Black Mask Collect...</td>\n",
       "      <td>0</td>\n",
       "      <td>[{'id': 28, 'name': 'Action'}, {'id': 12, 'nam...</td>\n",
       "      <td>NaN</td>\n",
       "      <td>49516</td>\n",
       "      <td>tt0264429</td>\n",
       "      <td>cn</td>\n",
       "      <td>黑俠2</td>\n",
       "      <td>...</td>\n",
       "      <td>0</td>\n",
       "      <td>102</td>\n",
       "      <td>[{'english_name': 'Cantonese', 'iso_639_1': 'c...</td>\n",
       "      <td>Released</td>\n",
       "      <td>Welcome to the evolution revolution!</td>\n",
       "      <td>Black Mask 2: City of Masks</td>\n",
       "      <td>False</td>\n",
       "      <td>4.600</td>\n",
       "      <td>43</td>\n",
       "      <td>PG</td>\n",
       "    </tr>\n",
       "  </tbody>\n",
       "</table>\n",
       "<p>28272 rows × 26 columns</p>\n",
       "</div>"
      ],
      "text/plain": [
       "      adult                     backdrop_path  \\\n",
       "0     False  /hfeiSfWYujh6MKhtGTXyK3DD4nN.jpg   \n",
       "1     False  /fw5tsNib4QZBEw18xmebpVe3WZ8.jpg   \n",
       "2     False  /7kIfosP2TlzZeD4a8b2He9COnwg.jpg   \n",
       "3     False  /wXUcSJG6dqNKgIRgqYqX98UA1wz.jpg   \n",
       "4     False                               NaN   \n",
       "...     ...                               ...   \n",
       "1954  False  /8h2eom0Wr1ZY3pmzvWefqS2ATFu.jpg   \n",
       "1955  False  /yJtLib6f8a61mO3u59JRmjQ7IOg.jpg   \n",
       "1956  False  /kEI58i7X5EtPFN0xRi76WIysscH.jpg   \n",
       "1957  False                               NaN   \n",
       "1958  False  /2nKl6hYXE14to5uzarH914enfe1.jpg   \n",
       "\n",
       "                                  belongs_to_collection    budget  \\\n",
       "0                                                   NaN  48000000   \n",
       "1                                                   NaN         0   \n",
       "2                                                   NaN         0   \n",
       "3                                                   NaN  12000000   \n",
       "4                                                   NaN    350000   \n",
       "...                                                 ...       ...   \n",
       "1954                                                NaN         0   \n",
       "1955                                                NaN  50000000   \n",
       "1956                                                NaN         0   \n",
       "1957                                                NaN         0   \n",
       "1958  {'id': 205860, 'name': 'The Black Mask Collect...         0   \n",
       "\n",
       "                                                 genres  \\\n",
       "0     [{'id': 10749, 'name': 'Romance'}, {'id': 14, ...   \n",
       "1     [{'id': 18, 'name': 'Drama'}, {'id': 14, 'name...   \n",
       "2                         [{'id': 18, 'name': 'Drama'}]   \n",
       "3                         [{'id': 18, 'name': 'Drama'}]   \n",
       "4     [{'id': 35, 'name': 'Comedy'}, {'id': 27, 'nam...   \n",
       "...                                                 ...   \n",
       "1954                     [{'id': 28, 'name': 'Action'}]   \n",
       "1955  [{'id': 28, 'name': 'Action'}, {'id': 18, 'nam...   \n",
       "1956  [{'id': 28, 'name': 'Action'}, {'id': 12, 'nam...   \n",
       "1957                                                 []   \n",
       "1958  [{'id': 28, 'name': 'Action'}, {'id': 12, 'nam...   \n",
       "\n",
       "                                       homepage      id    imdb_id  \\\n",
       "0                                           NaN   11232  tt0035423   \n",
       "1     http://poetastros.com/el-tango-del-viudo/  602986  tt0062336   \n",
       "2                                           NaN  124023  tt0068865   \n",
       "3        https://www.netflix.com/title/80085566  299782  tt0069049   \n",
       "4                                           NaN   29163  tt0088751   \n",
       "...                                         ...     ...        ...   \n",
       "1954                                        NaN    5127  tt0264365   \n",
       "1955                                        NaN   10782  tt0264395   \n",
       "1956                                        NaN   61714  tt0264410   \n",
       "1957                                        NaN  271014  tt0264425   \n",
       "1958                                        NaN   49516  tt0264429   \n",
       "\n",
       "     original_language                             original_title  ...  \\\n",
       "0                   en                             Kate & Leopold  ...   \n",
       "1                   es  El tango del viudo y su espejo deformante  ...   \n",
       "2                   en                        Lives of Performers  ...   \n",
       "3                   en                 The Other Side of the Wind  ...   \n",
       "4                   en                          The Naked Monster  ...   \n",
       "...                ...                                        ...  ...   \n",
       "1954                en                           Ancient Warriors  ...   \n",
       "1955                en                                      Basic  ...   \n",
       "1956                en                  Berserker: Hell's Warrior  ...   \n",
       "1957                en                            Bill's Gun Shop  ...   \n",
       "1958                cn                                        黑俠2  ...   \n",
       "\n",
       "       revenue  runtime                                   spoken_languages  \\\n",
       "0     76019048      118  [{'english_name': 'French', 'iso_639_1': 'fr',...   \n",
       "1            0       63  [{'english_name': 'Spanish', 'iso_639_1': 'es'...   \n",
       "2            0       90  [{'english_name': 'English', 'iso_639_1': 'en'...   \n",
       "3            0      122  [{'english_name': 'English', 'iso_639_1': 'en'...   \n",
       "4            0      100  [{'english_name': 'English', 'iso_639_1': 'en'...   \n",
       "...        ...      ...                                                ...   \n",
       "1954         0       93  [{'english_name': 'English', 'iso_639_1': 'en'...   \n",
       "1955  42792561       98  [{'english_name': 'English', 'iso_639_1': 'en'...   \n",
       "1956         0       84  [{'english_name': 'English', 'iso_639_1': 'en'...   \n",
       "1957         0        0                                                 []   \n",
       "1958         0      102  [{'english_name': 'Cantonese', 'iso_639_1': 'c...   \n",
       "\n",
       "        status                                            tagline  \\\n",
       "0     Released  If they lived in the same century, they'd be p...   \n",
       "1     Released                                                NaN   \n",
       "2     Released                                                NaN   \n",
       "3     Released                            40 years in the making.   \n",
       "4     Released                                                NaN   \n",
       "...        ...                                                ...   \n",
       "1954  Released                                                NaN   \n",
       "1955  Released             Deception is their most deadly weapon.   \n",
       "1956  Released  They fight with the zeal of fanatics, immune t...   \n",
       "1957  Released                                                NaN   \n",
       "1958  Released               Welcome to the evolution revolution!   \n",
       "\n",
       "                                                  title  video  vote_average  \\\n",
       "0                                        Kate & Leopold  False         6.330   \n",
       "1     The Tango of the Widower and Its Distorting Mi...  False         6.167   \n",
       "2                                   Lives of Performers  False         5.300   \n",
       "3                            The Other Side of the Wind  False         6.700   \n",
       "4                                     The Naked Monster  False         4.000   \n",
       "...                                                 ...    ...           ...   \n",
       "1954                                   Ancient Warriors  False         4.400   \n",
       "1955                                              Basic  False         6.519   \n",
       "1956                          Berserker: Hell's Warrior  False         3.400   \n",
       "1957                                    Bill's Gun Shop  False         0.000   \n",
       "1958                        Black Mask 2: City of Masks  False         4.600   \n",
       "\n",
       "     vote_count certification  \n",
       "0          1216         PG-13  \n",
       "1             6           NaN  \n",
       "2             3           NaN  \n",
       "3           185             R  \n",
       "4             6           NaN  \n",
       "...         ...           ...  \n",
       "1954          5             R  \n",
       "1955        929             R  \n",
       "1956         12           NaN  \n",
       "1957          0           NaN  \n",
       "1958         43            PG  \n",
       "\n",
       "[28272 rows x 26 columns]"
      ]
     },
     "execution_count": 277,
     "metadata": {},
     "output_type": "execute_result"
    }
   ],
   "source": [
    "#List comprehension to combine files into 1 df\n",
    "## Loading and Concatenating the list of dfs with 1 line\n",
    "df = pd.concat([pd.read_csv(file) for file in chunked_files])\n",
    "df"
   ]
  },
  {
   "cell_type": "markdown",
   "id": "cccd97e7",
   "metadata": {},
   "source": [
    "3 Question to Answer:\n",
    "\n",
    "Q1. Does the MPAA rating of a movie (G/PG/PG-13/R) affect how much revenue the movie generates? (ANOVA)\n",
    "\n",
    "Q2. Is there a significant difference in revenue between movies that belong to a collection and those that do not? (T-Test Independent)\n",
    "\n",
    "Q3. Does the release month have an effect on revenue? (ANOVA)"
   ]
  },
  {
   "cell_type": "markdown",
   "id": "e30b98c5",
   "metadata": {},
   "source": [
    "## Does the MPAA rating of a movie (G/PG/PG-13/R) affect how much revenue the movie generates?\n",
    "\n",
    "1.State your Null Hypothesis and Alternative Hypothesis\n",
    "\n",
    "   * Null Hypothesis: There is no signifcant difference in revenue between genres.\n",
    "    \n",
    "   * Alternative Hypothesis: There is a significant difference revenue between genres.\n",
    "\n",
    "2.Select the correct test according to the data type and number of samples\n",
    "\n",
    "   * ANOVA \n",
    "\n",
    "3.Test the assumptions of your selected test.\n",
    "\n",
    "   *  No significant outliers\n",
    "   *  Normality\n",
    "   *  Equal Variance\n",
    "\n",
    "4.Execute the selected test, or the alternative test (if you do not meet the assumptions)\n",
    "   \n",
    "   * I'll be looking out for the p-value from the .levene variance test to determine whether to use the nonparametric tests (medians), Kruskal-Wallis.\n",
    "\n",
    "5.Interpret your p-value and reject or fail to reject your null hypothesis \n",
    " \n",
    "    \n",
    "6.Show a supporting visualization that helps display the result\n"
   ]
  },
  {
   "cell_type": "code",
   "execution_count": 278,
   "id": "e0e90aa8",
   "metadata": {},
   "outputs": [
    {
     "data": {
      "text/plain": [
       "NaN        15563\n",
       "R           7259\n",
       "PG-13       3227\n",
       "PG          1165\n",
       "NR           662\n",
       "G            293\n",
       "NC-17         89\n",
       "Unrated       14\n",
       "Name: certification, dtype: int64"
      ]
     },
     "execution_count": 278,
     "metadata": {},
     "output_type": "execute_result"
    }
   ],
   "source": [
    "#Checking the size of the groups\n",
    "df[\"certification\"].value_counts(dropna=False)"
   ]
  },
  {
   "cell_type": "code",
   "execution_count": 279,
   "id": "96a049da",
   "metadata": {},
   "outputs": [],
   "source": [
    "#Dropping unnecessary genres\n",
    "df = df.drop(df[df[\"certification\"] == \"Unrated\"].index)\n",
    "df = df.drop(df[df[\"certification\"] == \"NC-17\"].index)\n",
    "df = df.drop(df[df[\"certification\"] == \"NR\"].index)"
   ]
  },
  {
   "cell_type": "code",
   "execution_count": 280,
   "id": "7d7ad8c1",
   "metadata": {},
   "outputs": [],
   "source": [
    "#Dropping NaN values in certification columm\n",
    "df = df.dropna(subset=[\"certification\"])"
   ]
  },
  {
   "cell_type": "code",
   "execution_count": 281,
   "id": "df19bf3f",
   "metadata": {},
   "outputs": [
    {
     "data": {
      "text/plain": [
       "dict_keys(['PG-13', 'R', 'PG', 'G'])"
      ]
     },
     "execution_count": 281,
     "metadata": {},
     "output_type": "execute_result"
    }
   ],
   "source": [
    "## Create groups dictionary. There are only 3 groups, but this is even more helpful when there are many groups\n",
    "genre_group = {}\n",
    "## Loop through all unique categories\n",
    "for i in df[\"certification\"].unique():\n",
    "    ## Get series for group and rename\n",
    "    data = df.loc[df[\"certification\"] == i, \"revenue\"].copy()\n",
    "    \n",
    "    # save into the dictionary\n",
    "    genre_group[i] = data\n",
    "genre_group.keys()    "
   ]
  },
  {
   "cell_type": "markdown",
   "id": "897f408f",
   "metadata": {},
   "source": [
    "## Testing Assumptions\n"
   ]
  },
  {
   "cell_type": "markdown",
   "id": "deb780f2",
   "metadata": {},
   "source": [
    "### Normality Test"
   ]
  },
  {
   "cell_type": "code",
   "execution_count": 282,
   "id": "5e89c260",
   "metadata": {},
   "outputs": [
    {
     "data": {
      "text/html": [
       "<div>\n",
       "<style scoped>\n",
       "    .dataframe tbody tr th:only-of-type {\n",
       "        vertical-align: middle;\n",
       "    }\n",
       "\n",
       "    .dataframe tbody tr th {\n",
       "        vertical-align: top;\n",
       "    }\n",
       "\n",
       "    .dataframe thead th {\n",
       "        text-align: right;\n",
       "    }\n",
       "</style>\n",
       "<table border=\"1\" class=\"dataframe\">\n",
       "  <thead>\n",
       "    <tr style=\"text-align: right;\">\n",
       "      <th></th>\n",
       "      <th>n</th>\n",
       "      <th>p</th>\n",
       "      <th>test stat</th>\n",
       "    </tr>\n",
       "  </thead>\n",
       "  <tbody>\n",
       "    <tr>\n",
       "      <th>PG-13</th>\n",
       "      <td>3087.0</td>\n",
       "      <td>0.000000e+00</td>\n",
       "      <td>1912.925834</td>\n",
       "    </tr>\n",
       "    <tr>\n",
       "      <th>R</th>\n",
       "      <td>6914.0</td>\n",
       "      <td>0.000000e+00</td>\n",
       "      <td>7555.132363</td>\n",
       "    </tr>\n",
       "    <tr>\n",
       "      <th>PG</th>\n",
       "      <td>1120.0</td>\n",
       "      <td>9.420822e-135</td>\n",
       "      <td>617.212130</td>\n",
       "    </tr>\n",
       "    <tr>\n",
       "      <th>G</th>\n",
       "      <td>281.0</td>\n",
       "      <td>4.263729e-26</td>\n",
       "      <td>116.834136</td>\n",
       "    </tr>\n",
       "  </tbody>\n",
       "</table>\n",
       "</div>"
      ],
      "text/plain": [
       "            n              p    test stat\n",
       "PG-13  3087.0   0.000000e+00  1912.925834\n",
       "R      6914.0   0.000000e+00  7555.132363\n",
       "PG     1120.0  9.420822e-135   617.212130\n",
       "G       281.0   4.263729e-26   116.834136"
      ]
     },
     "execution_count": 282,
     "metadata": {},
     "output_type": "execute_result"
    }
   ],
   "source": [
    "## Running normal test on each group and confirming there are >20 in each group\n",
    "norm_results = {}\n",
    "for i, data in genre_group.items():\n",
    "    stat, p = stats.normaltest(data)\n",
    "    ## save the p val, test statistic, and the size of the group\n",
    "    norm_results[i] = {\"n\": len(data),\n",
    "                      \"p\":p,\n",
    "                      \"test stat\":stat}\n",
    "## convert to a dataframe\n",
    "norm_results_df = pd.DataFrame(norm_results).T\n",
    "norm_results_df"
   ]
  },
  {
   "cell_type": "code",
   "execution_count": 283,
   "id": "0c700b8f",
   "metadata": {},
   "outputs": [
    {
     "data": {
      "text/html": [
       "<div>\n",
       "<style scoped>\n",
       "    .dataframe tbody tr th:only-of-type {\n",
       "        vertical-align: middle;\n",
       "    }\n",
       "\n",
       "    .dataframe tbody tr th {\n",
       "        vertical-align: top;\n",
       "    }\n",
       "\n",
       "    .dataframe thead th {\n",
       "        text-align: right;\n",
       "    }\n",
       "</style>\n",
       "<table border=\"1\" class=\"dataframe\">\n",
       "  <thead>\n",
       "    <tr style=\"text-align: right;\">\n",
       "      <th></th>\n",
       "      <th>n</th>\n",
       "      <th>p</th>\n",
       "      <th>test stat</th>\n",
       "      <th>sig</th>\n",
       "    </tr>\n",
       "  </thead>\n",
       "  <tbody>\n",
       "    <tr>\n",
       "      <th>PG-13</th>\n",
       "      <td>3087.0</td>\n",
       "      <td>0.000000e+00</td>\n",
       "      <td>1912.925834</td>\n",
       "      <td>True</td>\n",
       "    </tr>\n",
       "    <tr>\n",
       "      <th>R</th>\n",
       "      <td>6914.0</td>\n",
       "      <td>0.000000e+00</td>\n",
       "      <td>7555.132363</td>\n",
       "      <td>True</td>\n",
       "    </tr>\n",
       "    <tr>\n",
       "      <th>PG</th>\n",
       "      <td>1120.0</td>\n",
       "      <td>9.420822e-135</td>\n",
       "      <td>617.212130</td>\n",
       "      <td>True</td>\n",
       "    </tr>\n",
       "    <tr>\n",
       "      <th>G</th>\n",
       "      <td>281.0</td>\n",
       "      <td>4.263729e-26</td>\n",
       "      <td>116.834136</td>\n",
       "      <td>True</td>\n",
       "    </tr>\n",
       "  </tbody>\n",
       "</table>\n",
       "</div>"
      ],
      "text/plain": [
       "            n              p    test stat   sig\n",
       "PG-13  3087.0   0.000000e+00  1912.925834  True\n",
       "R      6914.0   0.000000e+00  7555.132363  True\n",
       "PG     1120.0  9.420822e-135   617.212130  True\n",
       "G       281.0   4.263729e-26   116.834136  True"
      ]
     },
     "execution_count": 283,
     "metadata": {},
     "output_type": "execute_result"
    }
   ],
   "source": [
    "### checking sig with pandas \n",
    "norm_results_df[\"sig\"] = norm_results_df[\"p\"] < .05\n",
    "norm_results_df"
   ]
  },
  {
   "cell_type": "markdown",
   "id": "0fb2c0c7",
   "metadata": {},
   "source": [
    "These groups do not have a normal distribution. However, \"If your group sizes (n) are large enough, we can safely ignore the normality assumption.\""
   ]
  },
  {
   "cell_type": "markdown",
   "id": "e7da454f",
   "metadata": {},
   "source": [
    "### Testing Assumption of Unequal Variance"
   ]
  },
  {
   "cell_type": "code",
   "execution_count": 284,
   "id": "10bb0ff7",
   "metadata": {},
   "outputs": [
    {
     "data": {
      "text/plain": [
       "LeveneResult(statistic=374.2676767736281, pvalue=7.375343321584666e-232)"
      ]
     },
     "execution_count": 284,
     "metadata": {},
     "output_type": "execute_result"
    }
   ],
   "source": [
    "# with the * operator \n",
    "stats.levene(*genre_group.values())"
   ]
  },
  {
   "cell_type": "markdown",
   "id": "1677ed1d",
   "metadata": {},
   "source": [
    "Levene pvalue < .05, so this is showing it is NOT of equal variance. Meaning that we reject the null hypothesis."
   ]
  },
  {
   "cell_type": "markdown",
   "id": "f01c92e8",
   "metadata": {},
   "source": [
    "### Checking for Outliers"
   ]
  },
  {
   "cell_type": "code",
   "execution_count": 285,
   "id": "d89d2dd4",
   "metadata": {},
   "outputs": [
    {
     "name": "stdout",
     "output_type": "stream",
     "text": [
      "There were 89 outliers in the PG-13 group.\n",
      "There were 130 outliers in the R group.\n",
      "There were 29 outliers in the PG group.\n",
      "There were 15 outliers in the G group.\n"
     ]
    }
   ],
   "source": [
    "## Loop through groups dict\n",
    "for i, data in genre_group.items():\n",
    "\n",
    "    ## determine if there are any outliers\n",
    "    outliers = np.abs(stats.zscore(data)) > 3\n",
    "    \n",
    "    ## print a statement about how many outliers for which group name\n",
    "    print(f\"There were {outliers.sum()} outliers in the {i} group.\")\n",
    "\n",
    "    ## Remove the outiers from data and overwrite the sector data in the dict\n",
    "    data = data.loc[~outliers]\n",
    "    genre_group[i] = data"
   ]
  },
  {
   "cell_type": "markdown",
   "id": "a19a43ee",
   "metadata": {},
   "source": [
    "### Kruskal Test"
   ]
  },
  {
   "cell_type": "code",
   "execution_count": 286,
   "id": "8f2e65e1",
   "metadata": {},
   "outputs": [
    {
     "name": "stdout",
     "output_type": "stream",
     "text": [
      "Kruskal Result: statistic=1512.2995693364735, pvalue=0.0\n",
      "Revenue significantly differ among the genres.\n"
     ]
    }
   ],
   "source": [
    "# Perform Kruskal-Wallis test\n",
    "h_statistic, p_value = stats.kruskal(*genre_group.values())\n",
    "\n",
    "print(f\"Kruskal Result: statistic={h_statistic}, pvalue={p_value}\")\n",
    "# Interpret the result\n",
    "print(\"Revenue significantly differs among the genres.\")"
   ]
  },
  {
   "cell_type": "markdown",
   "id": "f97a0a9c",
   "metadata": {},
   "source": [
    "## Post-hoc multiple comparison tests"
   ]
  },
  {
   "cell_type": "code",
   "execution_count": 287,
   "id": "f14053dc",
   "metadata": {},
   "outputs": [],
   "source": [
    "## save the values of revenu and the labels to the certifications\n",
    "values = df['revenue']\n",
    "labels = df['certification']"
   ]
  },
  {
   "cell_type": "code",
   "execution_count": 288,
   "id": "eb362b0b",
   "metadata": {},
   "outputs": [
    {
     "data": {
      "text/html": [
       "<table class=\"simpletable\">\n",
       "<caption>Multiple Comparison of Means - Tukey HSD, FWER=0.05</caption>\n",
       "<tr>\n",
       "  <th>group1</th> <th>group2</th>    <th>meandiff</th>     <th>p-adj</th>      <th>lower</th>           <th>upper</th>     <th>reject</th>\n",
       "</tr>\n",
       "<tr>\n",
       "     <td>G</td>     <td>PG</td>   <td>-15772750.5325</td> <td>0.2369</td> <td>-37335658.0467</td>   <td>5790156.9816</td>   <td>False</td>\n",
       "</tr>\n",
       "<tr>\n",
       "     <td>G</td>    <td>PG-13</td> <td>-13419595.4326</td> <td>0.3173</td> <td>-33557533.0197</td>   <td>6718342.1545</td>   <td>False</td>\n",
       "</tr>\n",
       "<tr>\n",
       "     <td>G</td>      <td>R</td>   <td>-94809465.5555</td>   <td>0.0</td>  <td>-114476911.9616</td> <td>-75142019.1494</td>  <td>True</td> \n",
       "</tr>\n",
       "<tr>\n",
       "    <td>PG</td>    <td>PG-13</td>  <td>2353155.0999</td>  <td>0.9502</td>  <td>-8920360.0744</td>   <td>13626670.2743</td>  <td>False</td>\n",
       "</tr>\n",
       "<tr>\n",
       "    <td>PG</td>      <td>R</td>   <td>-79036715.0229</td>   <td>0.0</td>  <td>-89446521.0855</td>  <td>-68626908.9603</td>  <td>True</td> \n",
       "</tr>\n",
       "<tr>\n",
       "   <td>PG-13</td>    <td>R</td>   <td>-81389870.1229</td>   <td>0.0</td>  <td>-88385698.3124</td>  <td>-74394041.9334</td>  <td>True</td> \n",
       "</tr>\n",
       "</table>"
      ],
      "text/plain": [
       "<class 'statsmodels.iolib.table.SimpleTable'>"
      ]
     },
     "execution_count": 288,
     "metadata": {},
     "output_type": "execute_result"
    }
   ],
   "source": [
    "## perform tukey's multiple comparison test and display the summary\n",
    "tukeys_results = pairwise_tukeyhsd(values,labels)\n",
    "tukeys_results.summary()"
   ]
  },
  {
   "cell_type": "markdown",
   "id": "e3a5dd6e",
   "metadata": {},
   "source": [
    "The test shows that there is a significant difference in the results with the R-rated genre.  The revenue was significantly higher for those R-rated movies.\n",
    "\n",
    "Therefore, I reject the null hypothesis and choose the alternative hypothesis: There is a significant difference revenue between genres."
   ]
  },
  {
   "cell_type": "markdown",
   "id": "e039e902",
   "metadata": {},
   "source": [
    "# Does the release month have an effect on revenue?"
   ]
  },
  {
   "cell_type": "markdown",
   "id": "89047d22",
   "metadata": {},
   "source": [
    "1.State your Null Hypothesis and Alternative Hypothesis\n",
    "\n",
    "   * Null Hypothesis: The month a movie is released has no signifcant difference in revenue.\n",
    "    \n",
    "   * Alternative Hypothesis: The month a movie is released has a signifcant difference in revenue.\n",
    "\n",
    "2.Select the correct test according to the data type and number of samples\n",
    "\n",
    "   * ANOVA \n",
    "\n",
    "3.Test the assumptions of your selected test.\n",
    "\n",
    "   *  No significant outliers\n",
    "   *  Normality\n",
    "   *  Equal Variance\n",
    "\n",
    "4.Execute the selected test, or the alternative test (if you do not meet the assumptions)\n",
    "   \n",
    "   * I'll be looking out for the p-value from the .levene variance test to determine whether to use the nonparametric tests (medians), Kruskal-Wallis.\n",
    "\n",
    "5.Interpret your p-value and reject or fail to reject your null hypothesis \n",
    " \n",
    "    \n",
    "6.Show a supporting visualization that helps display the result\n"
   ]
  },
  {
   "cell_type": "code",
   "execution_count": 289,
   "id": "bb06979f",
   "metadata": {},
   "outputs": [
    {
     "data": {
      "text/plain": [
       "0       2001-12-25\n",
       "3       2018-11-02\n",
       "12      1996-01-01\n",
       "13      1996-07-04\n",
       "15      2001-09-21\n",
       "           ...    \n",
       "1948    2003-03-21\n",
       "1950    2005-05-12\n",
       "1954    2003-03-01\n",
       "1955    2003-04-18\n",
       "1958    2002-12-24\n",
       "Name: release_date, Length: 11402, dtype: object"
      ]
     },
     "execution_count": 289,
     "metadata": {},
     "output_type": "execute_result"
    }
   ],
   "source": [
    "#Looking at the dates\n",
    "df[\"release_date\"]"
   ]
  },
  {
   "cell_type": "code",
   "execution_count": 290,
   "id": "1c9b63e7",
   "metadata": {},
   "outputs": [
    {
     "data": {
      "text/html": [
       "<div>\n",
       "<style scoped>\n",
       "    .dataframe tbody tr th:only-of-type {\n",
       "        vertical-align: middle;\n",
       "    }\n",
       "\n",
       "    .dataframe tbody tr th {\n",
       "        vertical-align: top;\n",
       "    }\n",
       "\n",
       "    .dataframe thead th {\n",
       "        text-align: right;\n",
       "    }\n",
       "</style>\n",
       "<table border=\"1\" class=\"dataframe\">\n",
       "  <thead>\n",
       "    <tr style=\"text-align: right;\">\n",
       "      <th></th>\n",
       "      <th>adult</th>\n",
       "      <th>backdrop_path</th>\n",
       "      <th>belongs_to_collection</th>\n",
       "      <th>budget</th>\n",
       "      <th>genres</th>\n",
       "      <th>homepage</th>\n",
       "      <th>id</th>\n",
       "      <th>imdb_id</th>\n",
       "      <th>original_language</th>\n",
       "      <th>original_title</th>\n",
       "      <th>...</th>\n",
       "      <th>status</th>\n",
       "      <th>tagline</th>\n",
       "      <th>title</th>\n",
       "      <th>video</th>\n",
       "      <th>vote_average</th>\n",
       "      <th>vote_count</th>\n",
       "      <th>certification</th>\n",
       "      <th>release_year</th>\n",
       "      <th>release_month</th>\n",
       "      <th>release_day</th>\n",
       "    </tr>\n",
       "  </thead>\n",
       "  <tbody>\n",
       "    <tr>\n",
       "      <th>0</th>\n",
       "      <td>False</td>\n",
       "      <td>/hfeiSfWYujh6MKhtGTXyK3DD4nN.jpg</td>\n",
       "      <td>NaN</td>\n",
       "      <td>48000000</td>\n",
       "      <td>[{'id': 10749, 'name': 'Romance'}, {'id': 14, ...</td>\n",
       "      <td>NaN</td>\n",
       "      <td>11232</td>\n",
       "      <td>tt0035423</td>\n",
       "      <td>en</td>\n",
       "      <td>Kate &amp; Leopold</td>\n",
       "      <td>...</td>\n",
       "      <td>Released</td>\n",
       "      <td>If they lived in the same century, they'd be p...</td>\n",
       "      <td>Kate &amp; Leopold</td>\n",
       "      <td>False</td>\n",
       "      <td>6.330</td>\n",
       "      <td>1216</td>\n",
       "      <td>PG-13</td>\n",
       "      <td>2001</td>\n",
       "      <td>12</td>\n",
       "      <td>25</td>\n",
       "    </tr>\n",
       "    <tr>\n",
       "      <th>3</th>\n",
       "      <td>False</td>\n",
       "      <td>/wXUcSJG6dqNKgIRgqYqX98UA1wz.jpg</td>\n",
       "      <td>NaN</td>\n",
       "      <td>12000000</td>\n",
       "      <td>[{'id': 18, 'name': 'Drama'}]</td>\n",
       "      <td>https://www.netflix.com/title/80085566</td>\n",
       "      <td>299782</td>\n",
       "      <td>tt0069049</td>\n",
       "      <td>en</td>\n",
       "      <td>The Other Side of the Wind</td>\n",
       "      <td>...</td>\n",
       "      <td>Released</td>\n",
       "      <td>40 years in the making.</td>\n",
       "      <td>The Other Side of the Wind</td>\n",
       "      <td>False</td>\n",
       "      <td>6.700</td>\n",
       "      <td>185</td>\n",
       "      <td>R</td>\n",
       "      <td>2018</td>\n",
       "      <td>11</td>\n",
       "      <td>02</td>\n",
       "    </tr>\n",
       "    <tr>\n",
       "      <th>12</th>\n",
       "      <td>False</td>\n",
       "      <td>/rFpHBidSlhjflmnLu7BZilyKeQR.jpg</td>\n",
       "      <td>NaN</td>\n",
       "      <td>0</td>\n",
       "      <td>[{'id': 28, 'name': 'Action'}, {'id': 12, 'nam...</td>\n",
       "      <td>NaN</td>\n",
       "      <td>73549</td>\n",
       "      <td>tt0116916</td>\n",
       "      <td>en</td>\n",
       "      <td>The Dark Mist</td>\n",
       "      <td>...</td>\n",
       "      <td>Released</td>\n",
       "      <td>NaN</td>\n",
       "      <td>The Dark Mist</td>\n",
       "      <td>False</td>\n",
       "      <td>3.500</td>\n",
       "      <td>2</td>\n",
       "      <td>PG</td>\n",
       "      <td>1996</td>\n",
       "      <td>01</td>\n",
       "      <td>01</td>\n",
       "    </tr>\n",
       "    <tr>\n",
       "      <th>13</th>\n",
       "      <td>False</td>\n",
       "      <td>NaN</td>\n",
       "      <td>NaN</td>\n",
       "      <td>0</td>\n",
       "      <td>[{'id': 18, 'name': 'Drama'}]</td>\n",
       "      <td>NaN</td>\n",
       "      <td>492619</td>\n",
       "      <td>tt0116991</td>\n",
       "      <td>en</td>\n",
       "      <td>Mariette in Ecstasy</td>\n",
       "      <td>...</td>\n",
       "      <td>Released</td>\n",
       "      <td>NaN</td>\n",
       "      <td>Mariette in Ecstasy</td>\n",
       "      <td>False</td>\n",
       "      <td>0.000</td>\n",
       "      <td>0</td>\n",
       "      <td>PG-13</td>\n",
       "      <td>1996</td>\n",
       "      <td>07</td>\n",
       "      <td>04</td>\n",
       "    </tr>\n",
       "    <tr>\n",
       "      <th>15</th>\n",
       "      <td>False</td>\n",
       "      <td>/9NZAirJahVilTiDNCHLFcdkwkiy.jpg</td>\n",
       "      <td>NaN</td>\n",
       "      <td>22000000</td>\n",
       "      <td>[{'id': 18, 'name': 'Drama'}, {'id': 10402, 'n...</td>\n",
       "      <td>NaN</td>\n",
       "      <td>10696</td>\n",
       "      <td>tt0118589</td>\n",
       "      <td>en</td>\n",
       "      <td>Glitter</td>\n",
       "      <td>...</td>\n",
       "      <td>Released</td>\n",
       "      <td>In music she found her dream, her love, herself.</td>\n",
       "      <td>Glitter</td>\n",
       "      <td>False</td>\n",
       "      <td>4.438</td>\n",
       "      <td>129</td>\n",
       "      <td>PG-13</td>\n",
       "      <td>2001</td>\n",
       "      <td>09</td>\n",
       "      <td>21</td>\n",
       "    </tr>\n",
       "  </tbody>\n",
       "</table>\n",
       "<p>5 rows × 29 columns</p>\n",
       "</div>"
      ],
      "text/plain": [
       "    adult                     backdrop_path belongs_to_collection    budget  \\\n",
       "0   False  /hfeiSfWYujh6MKhtGTXyK3DD4nN.jpg                   NaN  48000000   \n",
       "3   False  /wXUcSJG6dqNKgIRgqYqX98UA1wz.jpg                   NaN  12000000   \n",
       "12  False  /rFpHBidSlhjflmnLu7BZilyKeQR.jpg                   NaN         0   \n",
       "13  False                               NaN                   NaN         0   \n",
       "15  False  /9NZAirJahVilTiDNCHLFcdkwkiy.jpg                   NaN  22000000   \n",
       "\n",
       "                                               genres  \\\n",
       "0   [{'id': 10749, 'name': 'Romance'}, {'id': 14, ...   \n",
       "3                       [{'id': 18, 'name': 'Drama'}]   \n",
       "12  [{'id': 28, 'name': 'Action'}, {'id': 12, 'nam...   \n",
       "13                      [{'id': 18, 'name': 'Drama'}]   \n",
       "15  [{'id': 18, 'name': 'Drama'}, {'id': 10402, 'n...   \n",
       "\n",
       "                                  homepage      id    imdb_id  \\\n",
       "0                                      NaN   11232  tt0035423   \n",
       "3   https://www.netflix.com/title/80085566  299782  tt0069049   \n",
       "12                                     NaN   73549  tt0116916   \n",
       "13                                     NaN  492619  tt0116991   \n",
       "15                                     NaN   10696  tt0118589   \n",
       "\n",
       "   original_language              original_title  ...    status  \\\n",
       "0                 en              Kate & Leopold  ...  Released   \n",
       "3                 en  The Other Side of the Wind  ...  Released   \n",
       "12                en               The Dark Mist  ...  Released   \n",
       "13                en         Mariette in Ecstasy  ...  Released   \n",
       "15                en                     Glitter  ...  Released   \n",
       "\n",
       "                                              tagline  \\\n",
       "0   If they lived in the same century, they'd be p...   \n",
       "3                             40 years in the making.   \n",
       "12                                                NaN   \n",
       "13                                                NaN   \n",
       "15   In music she found her dream, her love, herself.   \n",
       "\n",
       "                         title  video vote_average vote_count  certification  \\\n",
       "0               Kate & Leopold  False        6.330       1216          PG-13   \n",
       "3   The Other Side of the Wind  False        6.700        185              R   \n",
       "12               The Dark Mist  False        3.500          2             PG   \n",
       "13         Mariette in Ecstasy  False        0.000          0          PG-13   \n",
       "15                     Glitter  False        4.438        129          PG-13   \n",
       "\n",
       "    release_year release_month release_day  \n",
       "0           2001            12          25  \n",
       "3           2018            11          02  \n",
       "12          1996            01          01  \n",
       "13          1996            07          04  \n",
       "15          2001            09          21  \n",
       "\n",
       "[5 rows x 29 columns]"
      ]
     },
     "execution_count": 290,
     "metadata": {},
     "output_type": "execute_result"
    }
   ],
   "source": [
    "#Splitting the dates into different columns\n",
    "df[[\"release_year\", \"release_month\", \"release_day\"]] = df[\"release_date\"].str.split(\"-\", expand=True)\n",
    "df.head()"
   ]
  },
  {
   "cell_type": "code",
   "execution_count": 291,
   "id": "87210135",
   "metadata": {},
   "outputs": [],
   "source": [
    "#Dropping column we no longer need\n",
    "df = df.drop(columns=\"release_date\")"
   ]
  },
  {
   "cell_type": "code",
   "execution_count": 294,
   "id": "c4ae286b",
   "metadata": {},
   "outputs": [
    {
     "data": {
      "text/plain": [
       "09    1313\n",
       "01    1275\n",
       "03    1066\n",
       "10    1054\n",
       "04    1047\n",
       "08     966\n",
       "02     953\n",
       "05     879\n",
       "06     842\n",
       "11     697\n",
       "12     691\n",
       "07     619\n",
       "Name: release_month, dtype: int64"
      ]
     },
     "execution_count": 294,
     "metadata": {},
     "output_type": "execute_result"
    }
   ],
   "source": [
    "df[\"release_month\"].value_counts()"
   ]
  },
  {
   "cell_type": "code",
   "execution_count": 295,
   "id": "58726fef",
   "metadata": {},
   "outputs": [
    {
     "data": {
      "text/plain": [
       "dict_keys(['12', '11', '01', '07', '09', '03', '04', '08', '06', '02', '05', '10'])"
      ]
     },
     "execution_count": 295,
     "metadata": {},
     "output_type": "execute_result"
    }
   ],
   "source": [
    "## Create groups dictionary. There are only 3 groups, but this is even more helpful when there are many groups\n",
    "date_group = {}\n",
    "## Loop through all unique categories\n",
    "for i in df[\"release_month\"].unique():\n",
    "    ## Get series for group and rename\n",
    "    data = df.loc[df[\"release_month\"] == i, \"revenue\"].copy()\n",
    "    \n",
    "    # save into the dictionary\n",
    "    date_group[i] = data\n",
    "date_group.keys()    "
   ]
  },
  {
   "cell_type": "markdown",
   "id": "3bdd7d87",
   "metadata": {},
   "source": [
    "## Testing Assumptions\n"
   ]
  },
  {
   "cell_type": "markdown",
   "id": "abb3d51e",
   "metadata": {},
   "source": [
    "### Normality Test"
   ]
  },
  {
   "cell_type": "code",
   "execution_count": 299,
   "id": "b84bb147",
   "metadata": {},
   "outputs": [
    {
     "data": {
      "text/html": [
       "<div>\n",
       "<style scoped>\n",
       "    .dataframe tbody tr th:only-of-type {\n",
       "        vertical-align: middle;\n",
       "    }\n",
       "\n",
       "    .dataframe tbody tr th {\n",
       "        vertical-align: top;\n",
       "    }\n",
       "\n",
       "    .dataframe thead th {\n",
       "        text-align: right;\n",
       "    }\n",
       "</style>\n",
       "<table border=\"1\" class=\"dataframe\">\n",
       "  <thead>\n",
       "    <tr style=\"text-align: right;\">\n",
       "      <th></th>\n",
       "      <th>n</th>\n",
       "      <th>p</th>\n",
       "      <th>test stat</th>\n",
       "    </tr>\n",
       "  </thead>\n",
       "  <tbody>\n",
       "    <tr>\n",
       "      <th>12</th>\n",
       "      <td>691.0</td>\n",
       "      <td>3.672014e-69</td>\n",
       "      <td>315.155262</td>\n",
       "    </tr>\n",
       "    <tr>\n",
       "      <th>11</th>\n",
       "      <td>697.0</td>\n",
       "      <td>1.636019e-105</td>\n",
       "      <td>482.558337</td>\n",
       "    </tr>\n",
       "    <tr>\n",
       "      <th>01</th>\n",
       "      <td>1275.0</td>\n",
       "      <td>4.507748e-244</td>\n",
       "      <td>1120.649930</td>\n",
       "    </tr>\n",
       "    <tr>\n",
       "      <th>07</th>\n",
       "      <td>619.0</td>\n",
       "      <td>2.662720e-19</td>\n",
       "      <td>85.539537</td>\n",
       "    </tr>\n",
       "    <tr>\n",
       "      <th>09</th>\n",
       "      <td>1313.0</td>\n",
       "      <td>4.117784e-162</td>\n",
       "      <td>743.206940</td>\n",
       "    </tr>\n",
       "    <tr>\n",
       "      <th>03</th>\n",
       "      <td>1066.0</td>\n",
       "      <td>5.112528e-93</td>\n",
       "      <td>425.017439</td>\n",
       "    </tr>\n",
       "    <tr>\n",
       "      <th>04</th>\n",
       "      <td>1047.0</td>\n",
       "      <td>2.329247e-147</td>\n",
       "      <td>675.268927</td>\n",
       "    </tr>\n",
       "    <tr>\n",
       "      <th>08</th>\n",
       "      <td>966.0</td>\n",
       "      <td>8.279523e-136</td>\n",
       "      <td>622.075575</td>\n",
       "    </tr>\n",
       "    <tr>\n",
       "      <th>06</th>\n",
       "      <td>842.0</td>\n",
       "      <td>5.647068e-30</td>\n",
       "      <td>134.692833</td>\n",
       "    </tr>\n",
       "    <tr>\n",
       "      <th>02</th>\n",
       "      <td>953.0</td>\n",
       "      <td>3.179462e-135</td>\n",
       "      <td>619.384551</td>\n",
       "    </tr>\n",
       "    <tr>\n",
       "      <th>05</th>\n",
       "      <td>879.0</td>\n",
       "      <td>1.460994e-45</td>\n",
       "      <td>206.474425</td>\n",
       "    </tr>\n",
       "    <tr>\n",
       "      <th>10</th>\n",
       "      <td>1054.0</td>\n",
       "      <td>9.131454e-218</td>\n",
       "      <td>999.503651</td>\n",
       "    </tr>\n",
       "  </tbody>\n",
       "</table>\n",
       "</div>"
      ],
      "text/plain": [
       "         n              p    test stat\n",
       "12   691.0   3.672014e-69   315.155262\n",
       "11   697.0  1.636019e-105   482.558337\n",
       "01  1275.0  4.507748e-244  1120.649930\n",
       "07   619.0   2.662720e-19    85.539537\n",
       "09  1313.0  4.117784e-162   743.206940\n",
       "03  1066.0   5.112528e-93   425.017439\n",
       "04  1047.0  2.329247e-147   675.268927\n",
       "08   966.0  8.279523e-136   622.075575\n",
       "06   842.0   5.647068e-30   134.692833\n",
       "02   953.0  3.179462e-135   619.384551\n",
       "05   879.0   1.460994e-45   206.474425\n",
       "10  1054.0  9.131454e-218   999.503651"
      ]
     },
     "execution_count": 299,
     "metadata": {},
     "output_type": "execute_result"
    }
   ],
   "source": [
    "## Running normal test on each group and confirming there are >20 in each group\n",
    "norm_results = {}\n",
    "for i, data in date_group.items():\n",
    "    stat, p = stats.normaltest(data)\n",
    "    ## save the p val, test statistic, and the size of the group\n",
    "    norm_results[i] = {\"n\": len(data),\n",
    "                      \"p\":p,\n",
    "                      \"test stat\":stat}\n",
    "## convert to a dataframe\n",
    "norm_results_df = pd.DataFrame(norm_results).T\n",
    "norm_results_df"
   ]
  },
  {
   "cell_type": "code",
   "execution_count": 300,
   "id": "b93efabe",
   "metadata": {},
   "outputs": [
    {
     "data": {
      "text/html": [
       "<div>\n",
       "<style scoped>\n",
       "    .dataframe tbody tr th:only-of-type {\n",
       "        vertical-align: middle;\n",
       "    }\n",
       "\n",
       "    .dataframe tbody tr th {\n",
       "        vertical-align: top;\n",
       "    }\n",
       "\n",
       "    .dataframe thead th {\n",
       "        text-align: right;\n",
       "    }\n",
       "</style>\n",
       "<table border=\"1\" class=\"dataframe\">\n",
       "  <thead>\n",
       "    <tr style=\"text-align: right;\">\n",
       "      <th></th>\n",
       "      <th>n</th>\n",
       "      <th>p</th>\n",
       "      <th>test stat</th>\n",
       "      <th>sig</th>\n",
       "    </tr>\n",
       "  </thead>\n",
       "  <tbody>\n",
       "    <tr>\n",
       "      <th>12</th>\n",
       "      <td>691.0</td>\n",
       "      <td>3.672014e-69</td>\n",
       "      <td>315.155262</td>\n",
       "      <td>True</td>\n",
       "    </tr>\n",
       "    <tr>\n",
       "      <th>11</th>\n",
       "      <td>697.0</td>\n",
       "      <td>1.636019e-105</td>\n",
       "      <td>482.558337</td>\n",
       "      <td>True</td>\n",
       "    </tr>\n",
       "    <tr>\n",
       "      <th>01</th>\n",
       "      <td>1275.0</td>\n",
       "      <td>4.507748e-244</td>\n",
       "      <td>1120.649930</td>\n",
       "      <td>True</td>\n",
       "    </tr>\n",
       "    <tr>\n",
       "      <th>07</th>\n",
       "      <td>619.0</td>\n",
       "      <td>2.662720e-19</td>\n",
       "      <td>85.539537</td>\n",
       "      <td>True</td>\n",
       "    </tr>\n",
       "    <tr>\n",
       "      <th>09</th>\n",
       "      <td>1313.0</td>\n",
       "      <td>4.117784e-162</td>\n",
       "      <td>743.206940</td>\n",
       "      <td>True</td>\n",
       "    </tr>\n",
       "    <tr>\n",
       "      <th>03</th>\n",
       "      <td>1066.0</td>\n",
       "      <td>5.112528e-93</td>\n",
       "      <td>425.017439</td>\n",
       "      <td>True</td>\n",
       "    </tr>\n",
       "    <tr>\n",
       "      <th>04</th>\n",
       "      <td>1047.0</td>\n",
       "      <td>2.329247e-147</td>\n",
       "      <td>675.268927</td>\n",
       "      <td>True</td>\n",
       "    </tr>\n",
       "    <tr>\n",
       "      <th>08</th>\n",
       "      <td>966.0</td>\n",
       "      <td>8.279523e-136</td>\n",
       "      <td>622.075575</td>\n",
       "      <td>True</td>\n",
       "    </tr>\n",
       "    <tr>\n",
       "      <th>06</th>\n",
       "      <td>842.0</td>\n",
       "      <td>5.647068e-30</td>\n",
       "      <td>134.692833</td>\n",
       "      <td>True</td>\n",
       "    </tr>\n",
       "    <tr>\n",
       "      <th>02</th>\n",
       "      <td>953.0</td>\n",
       "      <td>3.179462e-135</td>\n",
       "      <td>619.384551</td>\n",
       "      <td>True</td>\n",
       "    </tr>\n",
       "    <tr>\n",
       "      <th>05</th>\n",
       "      <td>879.0</td>\n",
       "      <td>1.460994e-45</td>\n",
       "      <td>206.474425</td>\n",
       "      <td>True</td>\n",
       "    </tr>\n",
       "    <tr>\n",
       "      <th>10</th>\n",
       "      <td>1054.0</td>\n",
       "      <td>9.131454e-218</td>\n",
       "      <td>999.503651</td>\n",
       "      <td>True</td>\n",
       "    </tr>\n",
       "  </tbody>\n",
       "</table>\n",
       "</div>"
      ],
      "text/plain": [
       "         n              p    test stat   sig\n",
       "12   691.0   3.672014e-69   315.155262  True\n",
       "11   697.0  1.636019e-105   482.558337  True\n",
       "01  1275.0  4.507748e-244  1120.649930  True\n",
       "07   619.0   2.662720e-19    85.539537  True\n",
       "09  1313.0  4.117784e-162   743.206940  True\n",
       "03  1066.0   5.112528e-93   425.017439  True\n",
       "04  1047.0  2.329247e-147   675.268927  True\n",
       "08   966.0  8.279523e-136   622.075575  True\n",
       "06   842.0   5.647068e-30   134.692833  True\n",
       "02   953.0  3.179462e-135   619.384551  True\n",
       "05   879.0   1.460994e-45   206.474425  True\n",
       "10  1054.0  9.131454e-218   999.503651  True"
      ]
     },
     "execution_count": 300,
     "metadata": {},
     "output_type": "execute_result"
    }
   ],
   "source": [
    "### checking sig with pandas \n",
    "norm_results_df[\"sig\"] = norm_results_df[\"p\"] < .05\n",
    "norm_results_df"
   ]
  },
  {
   "cell_type": "markdown",
   "id": "81a61e4a",
   "metadata": {},
   "source": [
    "These groups do not have a normal distribution. However, \"If your group sizes (n) are large enough, we can safely ignore the normality assumption.\""
   ]
  },
  {
   "cell_type": "markdown",
   "id": "050e440f",
   "metadata": {},
   "source": [
    "### Testing Assumption of Unequal Variance"
   ]
  },
  {
   "cell_type": "code",
   "execution_count": 301,
   "id": "6a7523ae",
   "metadata": {},
   "outputs": [
    {
     "data": {
      "text/plain": [
       "LeveneResult(statistic=178.29437380569112, pvalue=0.0)"
      ]
     },
     "execution_count": 301,
     "metadata": {},
     "output_type": "execute_result"
    }
   ],
   "source": [
    "# with the * operator \n",
    "stats.levene(*date_group.values())"
   ]
  },
  {
   "cell_type": "markdown",
   "id": "47349968",
   "metadata": {},
   "source": [
    "Levene pvalue < .05, so this is showing it is NOT of equal variance. Meaning that we reject the null hypothesis."
   ]
  },
  {
   "cell_type": "markdown",
   "id": "2119043f",
   "metadata": {},
   "source": [
    "### Checking for Outliers"
   ]
  },
  {
   "cell_type": "code",
   "execution_count": 302,
   "id": "2daef334",
   "metadata": {},
   "outputs": [
    {
     "name": "stdout",
     "output_type": "stream",
     "text": [
      "There were 15 outliers in the 12 month.\n",
      "There were 14 outliers in the 11 month.\n",
      "There were 42 outliers in the 01 month.\n",
      "There were 0 outliers in the 07 month.\n",
      "There were 29 outliers in the 09 month.\n",
      "There were 29 outliers in the 03 month.\n",
      "There were 29 outliers in the 04 month.\n",
      "There were 27 outliers in the 08 month.\n",
      "There were 0 outliers in the 06 month.\n",
      "There were 29 outliers in the 02 month.\n",
      "There were 0 outliers in the 05 month.\n",
      "There were 30 outliers in the 10 month.\n"
     ]
    }
   ],
   "source": [
    "## Loop through groups dict\n",
    "for i, data in date_group.items():\n",
    "\n",
    "    ## determine if there are any outliers\n",
    "    outliers = np.abs(stats.zscore(data)) > 3\n",
    "    \n",
    "    ## print a statement about how many outliers for which group name\n",
    "    print(f\"There were {outliers.sum()} outliers in the {i} month.\")\n",
    "\n",
    "    ## Remove the outiers from data and overwrite the sector data in the dict\n",
    "    data = data.loc[~outliers]\n",
    "    genre_group[i] = data"
   ]
  },
  {
   "cell_type": "code",
   "execution_count": 304,
   "id": "77c6c69b",
   "metadata": {},
   "outputs": [
    {
     "name": "stdout",
     "output_type": "stream",
     "text": [
      "Kruskal Result: statistic=952.7042463034255, pvalue=2.8763029768397243e-197\n",
      "The month significantly differs among the revenue.\n"
     ]
    }
   ],
   "source": [
    "# Perform Kruskal-Wallis test\n",
    "h_statistic, p_value = stats.kruskal(*date_group.values())\n",
    "\n",
    "print(f\"Kruskal Result: statistic={h_statistic}, pvalue={p_value}\")\n",
    "# Interpret the result\n",
    "print(\"The month significantly differs among the revenue.\")"
   ]
  },
  {
   "cell_type": "markdown",
   "id": "32eb5986",
   "metadata": {},
   "source": [
    "## Post-hoc multiple comparison tests"
   ]
  },
  {
   "cell_type": "code",
   "execution_count": 287,
   "id": "c4632c77",
   "metadata": {},
   "outputs": [],
   "source": [
    "## save the values of revenu and the labels to the certifications\n",
    "values = df['revenue']\n",
    "labels = df['certification']"
   ]
  },
  {
   "cell_type": "code",
   "execution_count": 288,
   "id": "0f022cf5",
   "metadata": {},
   "outputs": [
    {
     "data": {
      "text/html": [
       "<table class=\"simpletable\">\n",
       "<caption>Multiple Comparison of Means - Tukey HSD, FWER=0.05</caption>\n",
       "<tr>\n",
       "  <th>group1</th> <th>group2</th>    <th>meandiff</th>     <th>p-adj</th>      <th>lower</th>           <th>upper</th>     <th>reject</th>\n",
       "</tr>\n",
       "<tr>\n",
       "     <td>G</td>     <td>PG</td>   <td>-15772750.5325</td> <td>0.2369</td> <td>-37335658.0467</td>   <td>5790156.9816</td>   <td>False</td>\n",
       "</tr>\n",
       "<tr>\n",
       "     <td>G</td>    <td>PG-13</td> <td>-13419595.4326</td> <td>0.3173</td> <td>-33557533.0197</td>   <td>6718342.1545</td>   <td>False</td>\n",
       "</tr>\n",
       "<tr>\n",
       "     <td>G</td>      <td>R</td>   <td>-94809465.5555</td>   <td>0.0</td>  <td>-114476911.9616</td> <td>-75142019.1494</td>  <td>True</td> \n",
       "</tr>\n",
       "<tr>\n",
       "    <td>PG</td>    <td>PG-13</td>  <td>2353155.0999</td>  <td>0.9502</td>  <td>-8920360.0744</td>   <td>13626670.2743</td>  <td>False</td>\n",
       "</tr>\n",
       "<tr>\n",
       "    <td>PG</td>      <td>R</td>   <td>-79036715.0229</td>   <td>0.0</td>  <td>-89446521.0855</td>  <td>-68626908.9603</td>  <td>True</td> \n",
       "</tr>\n",
       "<tr>\n",
       "   <td>PG-13</td>    <td>R</td>   <td>-81389870.1229</td>   <td>0.0</td>  <td>-88385698.3124</td>  <td>-74394041.9334</td>  <td>True</td> \n",
       "</tr>\n",
       "</table>"
      ],
      "text/plain": [
       "<class 'statsmodels.iolib.table.SimpleTable'>"
      ]
     },
     "execution_count": 288,
     "metadata": {},
     "output_type": "execute_result"
    }
   ],
   "source": [
    "## perform tukey's multiple comparison test and display the summary\n",
    "tukeys_results = pairwise_tukeyhsd(values,labels)\n",
    "tukeys_results.summary()"
   ]
  },
  {
   "cell_type": "markdown",
   "id": "ce1b2d6b",
   "metadata": {},
   "source": [
    "The test shows that there is a significant difference in the results with the R-rated genre.  The revenue was significantly higher for those R-rated movies.\n",
    "\n",
    "Therefore, I reject the null hypothesis and choose the alternative hypothesis: There is a significant difference revenue between genres."
   ]
  },
  {
   "cell_type": "code",
   "execution_count": 306,
   "id": "04c93845",
   "metadata": {},
   "outputs": [
    {
     "data": {
      "text/html": [
       "<table class=\"simpletable\">\n",
       "<caption>Multiple Comparison of Means - Tukey HSD, FWER=0.05</caption>\n",
       "<tr>\n",
       "  <th>group1</th> <th>group2</th>    <th>meandiff</th>      <th>p-adj</th>      <th>lower</th>           <th>upper</th>      <th>reject</th>\n",
       "</tr>\n",
       "<tr>\n",
       "    <td>01</td>     <td>02</td>    <td>26690806.6802</td>    <td>0.0</td>   <td>9575430.5362</td>    <td>43806182.8242</td>   <td>True</td> \n",
       "</tr>\n",
       "<tr>\n",
       "    <td>01</td>     <td>03</td>    <td>17118181.2711</td>   <td>0.036</td>   <td>530052.0585</td>    <td>33706310.4836</td>   <td>True</td> \n",
       "</tr>\n",
       "<tr>\n",
       "    <td>01</td>     <td>04</td>    <td>15247193.0324</td>  <td>0.1115</td>  <td>-1422709.9388</td>   <td>31917096.0037</td>   <td>False</td>\n",
       "</tr>\n",
       "<tr>\n",
       "    <td>01</td>     <td>05</td>   <td>146377975.9316</td>    <td>0.0</td>  <td>128855167.3381</td>   <td>163900784.525</td>   <td>True</td> \n",
       "</tr>\n",
       "<tr>\n",
       "    <td>01</td>     <td>06</td>    <td>65734598.6664</td>    <td>0.0</td>   <td>47985361.669</td>    <td>83483835.6639</td>   <td>True</td> \n",
       "</tr>\n",
       "<tr>\n",
       "    <td>01</td>     <td>07</td>   <td>103393523.8702</td>    <td>0.0</td>   <td>83813195.6299</td>  <td>122973852.1105</td>   <td>True</td> \n",
       "</tr>\n",
       "<tr>\n",
       "    <td>01</td>     <td>08</td>    <td>12829973.3803</td>  <td>0.3658</td>  <td>-4219370.4897</td>   <td>29879317.2502</td>   <td>False</td>\n",
       "</tr>\n",
       "<tr>\n",
       "    <td>01</td>     <td>09</td>    <td>5485234.8294</td>   <td>0.9928</td> <td>-10230152.0928</td>   <td>21200621.7516</td>   <td>False</td>\n",
       "</tr>\n",
       "<tr>\n",
       "    <td>01</td>     <td>10</td>    <td>7105505.8958</td>   <td>0.9646</td>  <td>-9533973.8709</td>   <td>23744985.6625</td>   <td>False</td>\n",
       "</tr>\n",
       "<tr>\n",
       "    <td>01</td>     <td>11</td>    <td>70973673.1769</td>    <td>0.0</td>    <td>52145318.47</td>    <td>89802027.8838</td>   <td>True</td> \n",
       "</tr>\n",
       "<tr>\n",
       "    <td>01</td>     <td>12</td>   <td>146266503.6562</td>    <td>0.0</td>   <td>127385371.233</td>  <td>165147636.0794</td>   <td>True</td> \n",
       "</tr>\n",
       "<tr>\n",
       "    <td>02</td>     <td>03</td>    <td>-9572625.4091</td>  <td>0.8417</td>  <td>-27391222.357</td>   <td>8245971.5387</td>    <td>False</td>\n",
       "</tr>\n",
       "<tr>\n",
       "    <td>02</td>     <td>04</td>   <td>-11443613.6478</td>  <td>0.6298</td> <td>-29338362.3604</td>   <td>6451135.0649</td>    <td>False</td>\n",
       "</tr>\n",
       "<tr>\n",
       "    <td>02</td>     <td>05</td>   <td>119687169.2514</td>    <td>0.0</td>  <td>100995321.0971</td>  <td>138379017.4056</td>   <td>True</td> \n",
       "</tr>\n",
       "<tr>\n",
       "    <td>02</td>     <td>06</td>    <td>39043791.9862</td>    <td>0.0</td>   <td>20139512.5657</td>   <td>57948071.4068</td>   <td>True</td> \n",
       "</tr>\n",
       "<tr>\n",
       "    <td>02</td>     <td>07</td>     <td>76702717.19</td>     <td>0.0</td>   <td>56069597.6872</td>   <td>97335836.6928</td>   <td>True</td> \n",
       "</tr>\n",
       "<tr>\n",
       "    <td>02</td>     <td>08</td>   <td>-13860833.2999</td>  <td>0.3508</td> <td>-32109572.7855</td>   <td>4387906.1856</td>    <td>False</td>\n",
       "</tr>\n",
       "<tr>\n",
       "    <td>02</td>     <td>09</td>   <td>-21205571.8508</td>  <td>0.0027</td> <td>-38214679.7796</td>   <td>-4196463.922</td>    <td>True</td> \n",
       "</tr>\n",
       "<tr>\n",
       "    <td>02</td>     <td>10</td>   <td>-19585300.7844</td>  <td>0.0177</td> <td>-37451712.1007</td>   <td>-1718889.4681</td>   <td>True</td> \n",
       "</tr>\n",
       "<tr>\n",
       "    <td>02</td>     <td>11</td>    <td>44282866.4967</td>    <td>0.0</td>   <td>24361940.128</td>    <td>64203792.8654</td>   <td>True</td> \n",
       "</tr>\n",
       "<tr>\n",
       "    <td>02</td>     <td>12</td>    <td>119575696.976</td>    <td>0.0</td>   <td>99604880.0673</td>  <td>139546513.8847</td>   <td>True</td> \n",
       "</tr>\n",
       "<tr>\n",
       "    <td>03</td>     <td>04</td>    <td>-1870988.2386</td>    <td>1.0</td>   <td>-19262134.311</td>   <td>15520157.8337</td>   <td>False</td>\n",
       "</tr>\n",
       "<tr>\n",
       "    <td>03</td>     <td>05</td>   <td>129259794.6605</td>    <td>0.0</td>  <td>111049492.1467</td>  <td>147470097.1743</td>   <td>True</td> \n",
       "</tr>\n",
       "<tr>\n",
       "    <td>03</td>     <td>06</td>    <td>48616417.3954</td>    <td>0.0</td>   <td>30188131.7825</td>   <td>67044703.0083</td>   <td>True</td> \n",
       "</tr>\n",
       "<tr>\n",
       "    <td>03</td>     <td>07</td>    <td>86275342.5991</td>    <td>0.0</td>   <td>66077433.0381</td>  <td>106473252.1602</td>   <td>True</td> \n",
       "</tr>\n",
       "<tr>\n",
       "    <td>03</td>     <td>08</td>    <td>-4288207.8908</td>  <td>0.9998</td> <td>-22043388.0654</td>   <td>13466972.2838</td>   <td>False</td>\n",
       "</tr>\n",
       "<tr>\n",
       "    <td>03</td>     <td>09</td>   <td>-11632946.4416</td>  <td>0.4711</td> <td>-28111407.6184</td>   <td>4845514.7351</td>    <td>False</td>\n",
       "</tr>\n",
       "<tr>\n",
       "    <td>03</td>     <td>10</td>   <td>-10012675.3753</td>  <td>0.7688</td> <td>-27374662.1148</td>   <td>7349311.3643</td>    <td>False</td>\n",
       "</tr>\n",
       "<tr>\n",
       "    <td>03</td>     <td>11</td>    <td>53855491.9059</td>    <td>0.0</td>   <td>34385688.6812</td>   <td>73325295.1306</td>   <td>True</td> \n",
       "</tr>\n",
       "<tr>\n",
       "    <td>03</td>     <td>12</td>   <td>129148322.3851</td>    <td>0.0</td>  <td>109627475.6253</td>   <td>148669169.145</td>   <td>True</td> \n",
       "</tr>\n",
       "<tr>\n",
       "    <td>04</td>     <td>05</td>   <td>131130782.8991</td>    <td>0.0</td>  <td>112845959.9046</td>  <td>149415605.8937</td>   <td>True</td> \n",
       "</tr>\n",
       "<tr>\n",
       "    <td>04</td>     <td>06</td>    <td>50487405.634</td>     <td>0.0</td>   <td>31985477.4932</td>   <td>68989333.7749</td>   <td>True</td> \n",
       "</tr>\n",
       "<tr>\n",
       "    <td>04</td>     <td>07</td>    <td>88146330.8378</td>    <td>0.0</td>   <td>67881208.4613</td>  <td>108411453.2143</td>   <td>True</td> \n",
       "</tr>\n",
       "<tr>\n",
       "    <td>04</td>     <td>08</td>    <td>-2417219.6522</td>    <td>1.0</td>  <td>-20248822.4217</td>   <td>15414383.1174</td>   <td>False</td>\n",
       "</tr>\n",
       "<tr>\n",
       "    <td>04</td>     <td>09</td>    <td>-9761958.203</td>   <td>0.7425</td> <td>-26322734.6659</td>   <td>6798818.2598</td>    <td>False</td>\n",
       "</tr>\n",
       "<tr>\n",
       "    <td>04</td>     <td>10</td>    <td>-8141687.1366</td>  <td>0.9337</td> <td>-25581819.5284</td>   <td>9298445.2552</td>    <td>False</td>\n",
       "</tr>\n",
       "<tr>\n",
       "    <td>04</td>     <td>11</td>    <td>55726480.1445</td>    <td>0.0</td>   <td>36186959.3749</td>   <td>75266000.9141</td>   <td>True</td> \n",
       "</tr>\n",
       "<tr>\n",
       "    <td>04</td>     <td>12</td>   <td>131019310.6238</td>    <td>0.0</td>   <td>111428927.97</td>   <td>150609693.2775</td>   <td>True</td> \n",
       "</tr>\n",
       "<tr>\n",
       "    <td>05</td>     <td>06</td>   <td>-80643377.2651</td>    <td>0.0</td>  <td>-99917310.4616</td>  <td>-61369444.0687</td>   <td>True</td> \n",
       "</tr>\n",
       "<tr>\n",
       "    <td>05</td>     <td>07</td>   <td>-42984452.0614</td>    <td>0.0</td>  <td>-63956775.2724</td>  <td>-22012128.8503</td>   <td>True</td> \n",
       "</tr>\n",
       "<tr>\n",
       "    <td>05</td>     <td>08</td>   <td>-133548002.5513</td>   <td>0.0</td>  <td>-152179406.5044</td> <td>-114916598.5982</td>  <td>True</td> \n",
       "</tr>\n",
       "<tr>\n",
       "    <td>05</td>     <td>09</td>   <td>-140892741.1021</td>   <td>0.0</td>   <td>-158311767.28</td>  <td>-123473714.9243</td>  <td>True</td> \n",
       "</tr>\n",
       "<tr>\n",
       "    <td>05</td>     <td>10</td>   <td>-139272470.0358</td>   <td>0.0</td>  <td>-157529561.0904</td> <td>-121015378.9812</td>  <td>True</td> \n",
       "</tr>\n",
       "<tr>\n",
       "    <td>05</td>     <td>11</td>   <td>-75404302.7546</td>    <td>0.0</td>   <td>-95676353.165</td>  <td>-55132252.3443</td>   <td>True</td> \n",
       "</tr>\n",
       "<tr>\n",
       "    <td>05</td>     <td>12</td>    <td>-111472.2754</td>     <td>1.0</td>  <td>-20432551.1949</td>   <td>20209606.6441</td>   <td>False</td>\n",
       "</tr>\n",
       "<tr>\n",
       "    <td>06</td>     <td>07</td>    <td>37658925.2038</td>    <td>0.0</td>   <td>16497050.6683</td>   <td>58820799.7393</td>   <td>True</td> \n",
       "</tr>\n",
       "<tr>\n",
       "    <td>06</td>     <td>08</td>   <td>-52904625.2862</td>    <td>0.0</td>  <td>-71749141.8958</td>  <td>-34060108.6765</td>   <td>True</td> \n",
       "</tr>\n",
       "<tr>\n",
       "    <td>06</td>     <td>09</td>    <td>-60249363.837</td>    <td>0.0</td>  <td>-77896150.1159</td>  <td>-42602577.5581</td>   <td>True</td> \n",
       "</tr>\n",
       "<tr>\n",
       "    <td>06</td>     <td>10</td>   <td>-58629092.7707</td>    <td>0.0</td>   <td>-77103614.869</td>  <td>-40154570.6723</td>   <td>True</td> \n",
       "</tr>\n",
       "<tr>\n",
       "    <td>06</td>     <td>11</td>    <td>5239074.5105</td>   <td>0.9996</td>  <td>-15229013.354</td>   <td>25707162.3749</td>   <td>False</td>\n",
       "</tr>\n",
       "<tr>\n",
       "    <td>06</td>     <td>12</td>    <td>80531904.9897</td>    <td>0.0</td>   <td>60015257.0803</td>  <td>101048552.8992</td>   <td>True</td> \n",
       "</tr>\n",
       "<tr>\n",
       "    <td>07</td>     <td>08</td>   <td>-90563550.4899</td>    <td>0.0</td>  <td>-111141928.615</td>  <td>-69985172.3649</td>   <td>True</td> \n",
       "</tr>\n",
       "<tr>\n",
       "    <td>07</td>     <td>09</td>   <td>-97908289.0408</td>    <td>0.0</td>  <td>-117395795.4482</td> <td>-78420782.6334</td>   <td>True</td> \n",
       "</tr>\n",
       "<tr>\n",
       "    <td>07</td>     <td>10</td>   <td>-96288017.9744</td>    <td>0.0</td>  <td>-116528121.8963</td> <td>-76047914.0525</td>   <td>True</td> \n",
       "</tr>\n",
       "<tr>\n",
       "    <td>07</td>     <td>11</td>   <td>-32419850.6933</td>  <td>0.0001</td> <td>-54494643.1234</td>  <td>-10345058.2631</td>   <td>True</td> \n",
       "</tr>\n",
       "<tr>\n",
       "    <td>07</td>     <td>12</td>    <td>42872979.786</td>     <td>0.0</td>   <td>20753154.2567</td>   <td>64992805.3153</td>   <td>True</td> \n",
       "</tr>\n",
       "<tr>\n",
       "    <td>08</td>     <td>09</td>    <td>-7344738.5509</td>  <td>0.9605</td> <td>-24287400.0412</td>   <td>9597922.9395</td>    <td>False</td>\n",
       "</tr>\n",
       "<tr>\n",
       "    <td>08</td>     <td>10</td>    <td>-5724467.4845</td>  <td>0.9965</td> <td>-23527632.3483</td>   <td>12078697.3793</td>   <td>False</td>\n",
       "</tr>\n",
       "<tr>\n",
       "    <td>08</td>     <td>11</td>    <td>58143699.7966</td>    <td>0.0</td>   <td>38279477.3545</td>   <td>78007922.2388</td>   <td>True</td> \n",
       "</tr>\n",
       "<tr>\n",
       "    <td>08</td>     <td>12</td>   <td>133436530.2759</td>    <td>0.0</td>  <td>113522275.2348</td>   <td>153350785.317</td>   <td>True</td> \n",
       "</tr>\n",
       "<tr>\n",
       "    <td>09</td>     <td>10</td>    <td>1620271.0664</td>     <td>1.0</td>  <td>-14909881.3494</td>   <td>18150423.4821</td>   <td>False</td>\n",
       "</tr>\n",
       "<tr>\n",
       "    <td>09</td>     <td>11</td>    <td>65488438.3475</td>    <td>0.0</td>   <td>46756631.3618</td>   <td>84220245.3333</td>   <td>True</td> \n",
       "</tr>\n",
       "<tr>\n",
       "    <td>09</td>     <td>12</td>   <td>140781268.8268</td>    <td>0.0</td>  <td>121996412.8634</td>  <td>159566124.7901</td>   <td>True</td> \n",
       "</tr>\n",
       "<tr>\n",
       "    <td>10</td>     <td>11</td>    <td>63868167.2811</td>    <td>0.0</td>   <td>44354595.2416</td>   <td>83381739.3207</td>   <td>True</td> \n",
       "</tr>\n",
       "<tr>\n",
       "    <td>10</td>     <td>12</td>   <td>139160997.7604</td>    <td>0.0</td>  <td>119596496.3777</td>  <td>158725499.1431</td>   <td>True</td> \n",
       "</tr>\n",
       "<tr>\n",
       "    <td>11</td>     <td>12</td>    <td>75292830.4793</td>    <td>0.0</td>   <td>53835795.0731</td>   <td>96749865.8854</td>   <td>True</td> \n",
       "</tr>\n",
       "</table>"
      ],
      "text/plain": [
       "<class 'statsmodels.iolib.table.SimpleTable'>"
      ]
     },
     "execution_count": 306,
     "metadata": {},
     "output_type": "execute_result"
    }
   ],
   "source": [
    "## Post-hoc multiple comparison tests\n",
    "\n",
    "## save the values of revenu and the labels to the certifications\n",
    "values = df['revenue']\n",
    "labels = df['release_month']\n",
    "\n",
    "## perform tukey's multiple comparison test and display the summary\n",
    "tukeys_results = pairwise_tukeyhsd(values,labels)\n",
    "tukeys_results.summary()"
   ]
  },
  {
   "cell_type": "markdown",
   "id": "3c171c35",
   "metadata": {},
   "source": [
    "Based on the Tukey results, we reject the null hypothesis and accept the alternative hypothesis: The month a movie is released has a signifcant difference in revenue.\n",
    "\n",
    "The following months have statistically significant differences in mean revenue compared to other months:\n",
    "\n",
    "* Month 01 (January)\n",
    "* Month 02 (February)\n",
    "* Month 03 (March)\n",
    "* Month 05 (May)\n",
    "* Month 06 (June)\n",
    "* Month 07 (July)\n",
    "* Month 09 (September)\n",
    "* Month 11 (November)\n",
    "* Month 12 (December)"
   ]
  },
  {
   "cell_type": "code",
   "execution_count": null,
   "id": "637dafed",
   "metadata": {},
   "outputs": [],
   "source": []
  }
 ],
 "metadata": {
  "kernelspec": {
   "display_name": "Python (dojo-env)",
   "language": "python",
   "name": "dojo-env"
  },
  "language_info": {
   "codemirror_mode": {
    "name": "ipython",
    "version": 3
   },
   "file_extension": ".py",
   "mimetype": "text/x-python",
   "name": "python",
   "nbconvert_exporter": "python",
   "pygments_lexer": "ipython3",
   "version": "3.9.15"
  },
  "toc": {
   "base_numbering": 1,
   "nav_menu": {},
   "number_sections": true,
   "sideBar": true,
   "skip_h1_title": false,
   "title_cell": "Table of Contents",
   "title_sidebar": "Contents",
   "toc_cell": false,
   "toc_position": {},
   "toc_section_display": true,
   "toc_window_display": false
  },
  "varInspector": {
   "cols": {
    "lenName": 16,
    "lenType": 16,
    "lenVar": 40
   },
   "kernels_config": {
    "python": {
     "delete_cmd_postfix": "",
     "delete_cmd_prefix": "del ",
     "library": "var_list.py",
     "varRefreshCmd": "print(var_dic_list())"
    },
    "r": {
     "delete_cmd_postfix": ") ",
     "delete_cmd_prefix": "rm(",
     "library": "var_list.r",
     "varRefreshCmd": "cat(var_dic_list()) "
    }
   },
   "types_to_exclude": [
    "module",
    "function",
    "builtin_function_or_method",
    "instance",
    "_Feature"
   ],
   "window_display": false
  }
 },
 "nbformat": 4,
 "nbformat_minor": 5
}
