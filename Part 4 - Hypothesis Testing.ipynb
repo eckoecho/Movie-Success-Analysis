{
 "cells": [
  {
   "cell_type": "code",
   "execution_count": 228,
   "id": "8ceffb42",
   "metadata": {},
   "outputs": [
    {
     "data": {
      "text/plain": [
       "['tmdp_api_results_2019.json',\n",
       " 'basic1_tmdb_data_2013.csv.gz',\n",
       " 'tmdp_api_results_2023.json',\n",
       " 'tmdp_api_results_2015.json',\n",
       " '.DS_Store',\n",
       " 'tmdp_api_results_2014.json',\n",
       " 'tmdp_api_results_2022.json',\n",
       " 'tmdp_api_results_2018.json',\n",
       " 'basic1_tmdb_data_2011.csv.gz',\n",
       " 'tmdp_api_results_2013.json',\n",
       " 'basic1_tmdb_data_2015.csv.gz',\n",
       " 'basic1_tmdb_data_2019.csv.gz',\n",
       " 'final_tmdb_data_2000.csv.gz',\n",
       " 'basic1_tmdb_data_2023.csv.gz',\n",
       " 'title.basics.tsv.gz',\n",
       " 'basic1_tmdb_data_2017.csv.gz',\n",
       " 'basic1_tmdb_data_2021.csv.gz',\n",
       " 'title_basics.csv.gz',\n",
       " 'tmdp_api_results_2012.json',\n",
       " 'tmdp_api_results_2011.json',\n",
       " 'tmdp_api_results 2001.json',\n",
       " 'basic1_tmdb_data_2012.csv.gz',\n",
       " 'all_movies.csv',\n",
       " 'title.ratings.tsv.gz',\n",
       " 'basic1_tmdb_data_2010.csv.gz',\n",
       " 'title-akas-us-only.csv',\n",
       " 'tmdp_api_results 2000.json',\n",
       " 'tmdp_api_results_2010.json',\n",
       " 'final_tmdb_data_2001.csv.gz',\n",
       " '.ipynb_checkpoints',\n",
       " 'tmdp_api_results_2021.json',\n",
       " 'basic1_tmdb_data_2022.csv.gz',\n",
       " 'basic1_tmdb_data_2014.csv.gz',\n",
       " 'basic1_tmdb_data_2018.csv.gz',\n",
       " 'tmdp_api_results_2017.json',\n",
       " 'title-akas-us-only.csv.zip',\n",
       " 'tmdb_results_combined.csv.gz',\n",
       " 'basics_input_part4.csv',\n",
       " 'tmdp_api_results_2016.json',\n",
       " 'basic1_tmdb_data_2020.csv.gz',\n",
       " 'title_basics.csv',\n",
       " 'tmdp_api_results_2020.json',\n",
       " 'basic1_tmdb_data_2016.csv.gz']"
      ]
     },
     "execution_count": 228,
     "metadata": {},
     "output_type": "execute_result"
    }
   ],
   "source": [
    "import pandas as pd\n",
    "import glob\n",
    "import json\n",
    "import os\n",
    "import tmdbsimple as tmdb\n",
    "from tqdm.notebook import tqdm_notebook\n",
    "import scipy.stats as stats\n",
    "from statsmodels.stats.multicomp import pairwise_tukeyhsd\n",
    "\n",
    "#Folder path must end with /\n",
    "FOLDER = \"/Users/echo/Documents/0424_Data_Enrichment/Project-3/Data/\"\n",
    "os.makedirs(FOLDER, exist_ok=True)\n",
    "os.listdir(FOLDER)"
   ]
  },
  {
   "cell_type": "code",
   "execution_count": 168,
   "id": "3b3c0f98",
   "metadata": {},
   "outputs": [],
   "source": [
    "#Loading in API keys\n",
    "with open(\"/Users/echo/Documents/0424_Data_Enrichment/.secret/tmdb_api.json\", \"r\") as f:    \n",
    "    login = json.load(f)\n",
    "## Display the keys of the loaded dict\n",
    "login.keys()    \n",
    "tmdb.API_KEY =  login['api-key']"
   ]
  },
  {
   "cell_type": "code",
   "execution_count": 169,
   "id": "378b618a",
   "metadata": {},
   "outputs": [
    {
     "data": {
      "text/html": [
       "<div>\n",
       "<style scoped>\n",
       "    .dataframe tbody tr th:only-of-type {\n",
       "        vertical-align: middle;\n",
       "    }\n",
       "\n",
       "    .dataframe tbody tr th {\n",
       "        vertical-align: top;\n",
       "    }\n",
       "\n",
       "    .dataframe thead th {\n",
       "        text-align: right;\n",
       "    }\n",
       "</style>\n",
       "<table border=\"1\" class=\"dataframe\">\n",
       "  <thead>\n",
       "    <tr style=\"text-align: right;\">\n",
       "      <th></th>\n",
       "      <th>tconst</th>\n",
       "      <th>titleType</th>\n",
       "      <th>primaryTitle</th>\n",
       "      <th>originalTitle</th>\n",
       "      <th>isAdult</th>\n",
       "      <th>startYear</th>\n",
       "      <th>endYear</th>\n",
       "      <th>runtimeMinutes</th>\n",
       "      <th>genres</th>\n",
       "    </tr>\n",
       "  </thead>\n",
       "  <tbody>\n",
       "    <tr>\n",
       "      <th>0</th>\n",
       "      <td>tt0035423</td>\n",
       "      <td>movie</td>\n",
       "      <td>Kate &amp; Leopold</td>\n",
       "      <td>Kate &amp; Leopold</td>\n",
       "      <td>0</td>\n",
       "      <td>2001.0</td>\n",
       "      <td>NaN</td>\n",
       "      <td>118</td>\n",
       "      <td>Comedy,Fantasy,Romance</td>\n",
       "    </tr>\n",
       "    <tr>\n",
       "      <th>1</th>\n",
       "      <td>tt0062336</td>\n",
       "      <td>movie</td>\n",
       "      <td>The Tango of the Widower and Its Distorting Mi...</td>\n",
       "      <td>El tango del viudo y su espejo deformante</td>\n",
       "      <td>0</td>\n",
       "      <td>2020.0</td>\n",
       "      <td>NaN</td>\n",
       "      <td>70</td>\n",
       "      <td>Drama</td>\n",
       "    </tr>\n",
       "    <tr>\n",
       "      <th>2</th>\n",
       "      <td>tt0068865</td>\n",
       "      <td>movie</td>\n",
       "      <td>Lives of Performers</td>\n",
       "      <td>Lives of Performers</td>\n",
       "      <td>0</td>\n",
       "      <td>2016.0</td>\n",
       "      <td>NaN</td>\n",
       "      <td>90</td>\n",
       "      <td>Drama</td>\n",
       "    </tr>\n",
       "    <tr>\n",
       "      <th>3</th>\n",
       "      <td>tt0069049</td>\n",
       "      <td>movie</td>\n",
       "      <td>The Other Side of the Wind</td>\n",
       "      <td>The Other Side of the Wind</td>\n",
       "      <td>0</td>\n",
       "      <td>2018.0</td>\n",
       "      <td>NaN</td>\n",
       "      <td>122</td>\n",
       "      <td>Drama</td>\n",
       "    </tr>\n",
       "    <tr>\n",
       "      <th>4</th>\n",
       "      <td>tt0088751</td>\n",
       "      <td>movie</td>\n",
       "      <td>The Naked Monster</td>\n",
       "      <td>The Naked Monster</td>\n",
       "      <td>0</td>\n",
       "      <td>2005.0</td>\n",
       "      <td>NaN</td>\n",
       "      <td>100</td>\n",
       "      <td>Comedy,Horror,Sci-Fi</td>\n",
       "    </tr>\n",
       "    <tr>\n",
       "      <th>...</th>\n",
       "      <td>...</td>\n",
       "      <td>...</td>\n",
       "      <td>...</td>\n",
       "      <td>...</td>\n",
       "      <td>...</td>\n",
       "      <td>...</td>\n",
       "      <td>...</td>\n",
       "      <td>...</td>\n",
       "      <td>...</td>\n",
       "    </tr>\n",
       "    <tr>\n",
       "      <th>1995</th>\n",
       "      <td>tt0264365</td>\n",
       "      <td>movie</td>\n",
       "      <td>Ancient Warriors</td>\n",
       "      <td>Ancient Warriors</td>\n",
       "      <td>0</td>\n",
       "      <td>2003.0</td>\n",
       "      <td>NaN</td>\n",
       "      <td>99</td>\n",
       "      <td>Action</td>\n",
       "    </tr>\n",
       "    <tr>\n",
       "      <th>1996</th>\n",
       "      <td>tt0264395</td>\n",
       "      <td>movie</td>\n",
       "      <td>Basic</td>\n",
       "      <td>Basic</td>\n",
       "      <td>0</td>\n",
       "      <td>2003.0</td>\n",
       "      <td>NaN</td>\n",
       "      <td>98</td>\n",
       "      <td>Action,Crime,Drama</td>\n",
       "    </tr>\n",
       "    <tr>\n",
       "      <th>1997</th>\n",
       "      <td>tt0264410</td>\n",
       "      <td>movie</td>\n",
       "      <td>Berserker</td>\n",
       "      <td>Berserker</td>\n",
       "      <td>0</td>\n",
       "      <td>2004.0</td>\n",
       "      <td>NaN</td>\n",
       "      <td>84</td>\n",
       "      <td>Action,Adventure,Fantasy</td>\n",
       "    </tr>\n",
       "    <tr>\n",
       "      <th>1998</th>\n",
       "      <td>tt0264425</td>\n",
       "      <td>movie</td>\n",
       "      <td>Bill's Gun Shop</td>\n",
       "      <td>Bill's Gun Shop</td>\n",
       "      <td>0</td>\n",
       "      <td>2001.0</td>\n",
       "      <td>NaN</td>\n",
       "      <td>93</td>\n",
       "      <td>Crime,Drama</td>\n",
       "    </tr>\n",
       "    <tr>\n",
       "      <th>1999</th>\n",
       "      <td>tt0264429</td>\n",
       "      <td>movie</td>\n",
       "      <td>Black Mask 2: City of Masks</td>\n",
       "      <td>Black Mask 2: City of Masks</td>\n",
       "      <td>0</td>\n",
       "      <td>2002.0</td>\n",
       "      <td>NaN</td>\n",
       "      <td>102</td>\n",
       "      <td>Action,Drama,Sci-Fi</td>\n",
       "    </tr>\n",
       "  </tbody>\n",
       "</table>\n",
       "<p>2000 rows × 9 columns</p>\n",
       "</div>"
      ],
      "text/plain": [
       "         tconst titleType                                       primaryTitle  \\\n",
       "0     tt0035423     movie                                     Kate & Leopold   \n",
       "1     tt0062336     movie  The Tango of the Widower and Its Distorting Mi...   \n",
       "2     tt0068865     movie                                Lives of Performers   \n",
       "3     tt0069049     movie                         The Other Side of the Wind   \n",
       "4     tt0088751     movie                                  The Naked Monster   \n",
       "...         ...       ...                                                ...   \n",
       "1995  tt0264365     movie                                   Ancient Warriors   \n",
       "1996  tt0264395     movie                                              Basic   \n",
       "1997  tt0264410     movie                                          Berserker   \n",
       "1998  tt0264425     movie                                    Bill's Gun Shop   \n",
       "1999  tt0264429     movie                        Black Mask 2: City of Masks   \n",
       "\n",
       "                                  originalTitle  isAdult  startYear  endYear  \\\n",
       "0                                Kate & Leopold        0     2001.0      NaN   \n",
       "1     El tango del viudo y su espejo deformante        0     2020.0      NaN   \n",
       "2                           Lives of Performers        0     2016.0      NaN   \n",
       "3                    The Other Side of the Wind        0     2018.0      NaN   \n",
       "4                             The Naked Monster        0     2005.0      NaN   \n",
       "...                                         ...      ...        ...      ...   \n",
       "1995                           Ancient Warriors        0     2003.0      NaN   \n",
       "1996                                      Basic        0     2003.0      NaN   \n",
       "1997                                  Berserker        0     2004.0      NaN   \n",
       "1998                            Bill's Gun Shop        0     2001.0      NaN   \n",
       "1999                Black Mask 2: City of Masks        0     2002.0      NaN   \n",
       "\n",
       "      runtimeMinutes                    genres  \n",
       "0                118    Comedy,Fantasy,Romance  \n",
       "1                 70                     Drama  \n",
       "2                 90                     Drama  \n",
       "3                122                     Drama  \n",
       "4                100      Comedy,Horror,Sci-Fi  \n",
       "...              ...                       ...  \n",
       "1995              99                    Action  \n",
       "1996              98        Action,Crime,Drama  \n",
       "1997              84  Action,Adventure,Fantasy  \n",
       "1998              93               Crime,Drama  \n",
       "1999             102       Action,Drama,Sci-Fi  \n",
       "\n",
       "[2000 rows x 9 columns]"
      ]
     },
     "execution_count": 169,
     "metadata": {},
     "output_type": "execute_result"
    }
   ],
   "source": [
    "# Load in the dataframe from project part 1 as basics:\n",
    "basics = pd.read_csv(\"/Users/echo/Documents/0424_Data_Enrichment/Project-3/Data/basics_input_part4.csv\")\n",
    "basics"
   ]
  },
  {
   "cell_type": "code",
   "execution_count": 170,
   "id": "829fce4f",
   "metadata": {},
   "outputs": [],
   "source": [
    "def get_movie_with_rating(movie_id):\n",
    "    #Get the movie object for the current id\n",
    "    movie = tmdb.Movies(movie_id)\n",
    "    #Save the .info .releases dictionaries\n",
    "    info = movie.info()\n",
    "    releases = movie.releases()\n",
    "    \n",
    "    #Loop thru countries in releases\n",
    "    for c in releases[\"countries\"]:\n",
    "        #if the country abbreviation == US\n",
    "        if c[\"iso_3166_1\"] == \"US\":\n",
    "            #Save a certification key to new column\n",
    "            info[\"certification\"] = c[\"certification\"]\n",
    "    return info"
   ]
  },
  {
   "cell_type": "code",
   "execution_count": 171,
   "id": "5e678987",
   "metadata": {},
   "outputs": [
    {
     "data": {
      "text/plain": [
       "dict_keys(['adult', 'backdrop_path', 'belongs_to_collection', 'budget', 'genres', 'homepage', 'id', 'imdb_id', 'original_language', 'original_title', 'overview', 'popularity', 'poster_path', 'production_companies', 'production_countries', 'release_date', 'revenue', 'runtime', 'spoken_languages', 'status', 'tagline', 'title', 'video', 'vote_average', 'vote_count', 'certification'])"
      ]
     },
     "execution_count": 171,
     "metadata": {},
     "output_type": "execute_result"
    }
   ],
   "source": [
    "#Example of what info the custom function returns\n",
    "movie = get_movie_with_rating(\"tt0378194\")\n",
    "movie.keys()"
   ]
  },
  {
   "cell_type": "markdown",
   "id": "a1c0da08",
   "metadata": {},
   "source": [
    "# Create Required Lists for the Loop\n",
    "## Define a list of the Years to Extract from the API"
   ]
  },
  {
   "cell_type": "code",
   "execution_count": 172,
   "id": "24c95c72",
   "metadata": {},
   "outputs": [],
   "source": [
    "YEARS_TO_GET = range(2010,2024)"
   ]
  },
  {
   "cell_type": "markdown",
   "id": "8bb45265",
   "metadata": {},
   "source": [
    "## Define an errors list"
   ]
  },
  {
   "cell_type": "code",
   "execution_count": 173,
   "id": "aa59fb13",
   "metadata": {},
   "outputs": [],
   "source": [
    "#Create empty list to append errors later on \n",
    "errors = []"
   ]
  },
  {
   "cell_type": "code",
   "execution_count": 174,
   "id": "3f72196b",
   "metadata": {},
   "outputs": [],
   "source": [
    "def write_json(new_data, filename): \n",
    "    \"\"\"Appends a list of records (new_data) to a json file (filename). \n",
    "    Adapted from: https://www.geeksforgeeks.org/append-to-json-file-using-python/\"\"\"  \n",
    "    \n",
    "    with open(filename,'r+') as file:\n",
    "        # First we load existing data into a dict.\n",
    "        file_data = json.load(file)\n",
    "        ## Choose extend or append\n",
    "        if (type(new_data) == list) & (type(file_data) == list):\n",
    "            file_data.extend(new_data)\n",
    "        else:\n",
    "             file_data.append(new_data)\n",
    "        # Sets file's current position at offset.\n",
    "        file.seek(0)\n",
    "        # convert back to json.\n",
    "        json.dump(file_data, file)"
   ]
  },
  {
   "cell_type": "markdown",
   "id": "ca3d485e",
   "metadata": {},
   "source": [
    "## Start OUTER loop"
   ]
  },
  {
   "cell_type": "code",
   "execution_count": 175,
   "id": "f1f0912a",
   "metadata": {},
   "outputs": [
    {
     "data": {
      "application/vnd.jupyter.widget-view+json": {
       "model_id": "b1545ee9e7db4e9da81e34bda4f7418b",
       "version_major": 2,
       "version_minor": 0
      },
      "text/plain": [
       "YEARS:   0%|          | 0/14 [00:00<?, ?it/s]"
      ]
     },
     "metadata": {},
     "output_type": "display_data"
    },
    {
     "data": {
      "application/vnd.jupyter.widget-view+json": {
       "model_id": "80f745b6602b49bdbc709570c81e0ca9",
       "version_major": 2,
       "version_minor": 0
      },
      "text/plain": [
       "Movies from 2010:   0%|          | 0/2000 [00:00<?, ?it/s]"
      ]
     },
     "metadata": {},
     "output_type": "display_data"
    },
    {
     "data": {
      "application/vnd.jupyter.widget-view+json": {
       "model_id": "e747b09702874736b6eb545d3245481b",
       "version_major": 2,
       "version_minor": 0
      },
      "text/plain": [
       "Movies from 2011:   0%|          | 0/2000 [00:00<?, ?it/s]"
      ]
     },
     "metadata": {},
     "output_type": "display_data"
    },
    {
     "data": {
      "application/vnd.jupyter.widget-view+json": {
       "model_id": "e15be70c7e544f7f86ef870bf0b0f59f",
       "version_major": 2,
       "version_minor": 0
      },
      "text/plain": [
       "Movies from 2012:   0%|          | 0/2000 [00:00<?, ?it/s]"
      ]
     },
     "metadata": {},
     "output_type": "display_data"
    },
    {
     "data": {
      "application/vnd.jupyter.widget-view+json": {
       "model_id": "26d0b31230f840439f353ab8ea4c466e",
       "version_major": 2,
       "version_minor": 0
      },
      "text/plain": [
       "Movies from 2013:   0%|          | 0/2000 [00:00<?, ?it/s]"
      ]
     },
     "metadata": {},
     "output_type": "display_data"
    },
    {
     "data": {
      "application/vnd.jupyter.widget-view+json": {
       "model_id": "63ff0d78779e4b84a4888c6851d52e2c",
       "version_major": 2,
       "version_minor": 0
      },
      "text/plain": [
       "Movies from 2014:   0%|          | 0/2000 [00:00<?, ?it/s]"
      ]
     },
     "metadata": {},
     "output_type": "display_data"
    },
    {
     "data": {
      "application/vnd.jupyter.widget-view+json": {
       "model_id": "5f8f689968b14e8d824c5b7818181987",
       "version_major": 2,
       "version_minor": 0
      },
      "text/plain": [
       "Movies from 2015:   0%|          | 0/2000 [00:00<?, ?it/s]"
      ]
     },
     "metadata": {},
     "output_type": "display_data"
    },
    {
     "data": {
      "application/vnd.jupyter.widget-view+json": {
       "model_id": "7aef7515a3864953a64cb3cff238ac1f",
       "version_major": 2,
       "version_minor": 0
      },
      "text/plain": [
       "Movies from 2016:   0%|          | 0/2000 [00:00<?, ?it/s]"
      ]
     },
     "metadata": {},
     "output_type": "display_data"
    },
    {
     "data": {
      "application/vnd.jupyter.widget-view+json": {
       "model_id": "d64f2db5b2f1457281fcfa0eaa9eafc8",
       "version_major": 2,
       "version_minor": 0
      },
      "text/plain": [
       "Movies from 2017:   0%|          | 0/2000 [00:00<?, ?it/s]"
      ]
     },
     "metadata": {},
     "output_type": "display_data"
    },
    {
     "data": {
      "application/vnd.jupyter.widget-view+json": {
       "model_id": "a4b165dc5ad74284bd433cfdfa9eb838",
       "version_major": 2,
       "version_minor": 0
      },
      "text/plain": [
       "Movies from 2018:   0%|          | 0/2000 [00:00<?, ?it/s]"
      ]
     },
     "metadata": {},
     "output_type": "display_data"
    },
    {
     "data": {
      "application/vnd.jupyter.widget-view+json": {
       "model_id": "1df05611d8e642039d9a6ed3a0b603d1",
       "version_major": 2,
       "version_minor": 0
      },
      "text/plain": [
       "Movies from 2019:   0%|          | 0/2000 [00:00<?, ?it/s]"
      ]
     },
     "metadata": {},
     "output_type": "display_data"
    },
    {
     "data": {
      "application/vnd.jupyter.widget-view+json": {
       "model_id": "9d6b88de53114e9a96df35c866de3a11",
       "version_major": 2,
       "version_minor": 0
      },
      "text/plain": [
       "Movies from 2020:   0%|          | 0/2000 [00:00<?, ?it/s]"
      ]
     },
     "metadata": {},
     "output_type": "display_data"
    },
    {
     "data": {
      "application/vnd.jupyter.widget-view+json": {
       "model_id": "1a5194d153fb4b7f85a5d221eccc454f",
       "version_major": 2,
       "version_minor": 0
      },
      "text/plain": [
       "Movies from 2021:   0%|          | 0/2000 [00:00<?, ?it/s]"
      ]
     },
     "metadata": {},
     "output_type": "display_data"
    },
    {
     "data": {
      "application/vnd.jupyter.widget-view+json": {
       "model_id": "31f34cb307a94776bda31be773b57d06",
       "version_major": 2,
       "version_minor": 0
      },
      "text/plain": [
       "Movies from 2022:   0%|          | 0/2000 [00:00<?, ?it/s]"
      ]
     },
     "metadata": {},
     "output_type": "display_data"
    },
    {
     "data": {
      "application/vnd.jupyter.widget-view+json": {
       "model_id": "028da4281efb44fe8f2bc5b11dcc8438",
       "version_major": 2,
       "version_minor": 0
      },
      "text/plain": [
       "Movies from 2023:   0%|          | 0/2000 [00:00<?, ?it/s]"
      ]
     },
     "metadata": {},
     "output_type": "display_data"
    },
    {
     "name": "stdout",
     "output_type": "stream",
     "text": [
      "- Total errors: 28000\n"
     ]
    }
   ],
   "source": [
    "# Start of OUTER loop\n",
    "#progress bar based on years_to_get. DESC means Description name\n",
    "for YEAR in tqdm_notebook(YEARS_TO_GET, desc=\"YEARS\", position=0):\n",
    "    #Defining the JSON file to store results for each year\n",
    "    JSON_FILE = f\"{FOLDER}tmdp_api_results_{YEAR}.json\"\n",
    "    # Check if file exists\n",
    "    file_exists = os.path.isfile(JSON_FILE)\n",
    "    # If it does not exist: create it\n",
    "    if file_exists == False:\n",
    "        # save an empty dict to the new json file.\n",
    "        with open(JSON_FILE, \"w\") as f:\n",
    "            json.dump([],f)\n",
    "    #Saving new year as the current df\n",
    "#     df = basics.loc[basics[\"startYear\"] == YEAR].copy()\n",
    "    # saving movie ids to list\n",
    "    movie_ids = basics[\"tconst\"].copy()\n",
    "    # Load existing data from json into a dataframe called \"previous_df\"\n",
    "    previous_df = pd.read_json(JSON_FILE)\n",
    "    # filter out any ids that are already in the JSON_FILE\n",
    "    try:\n",
    "        movie_ids_to_get = movie_ids[~movie_ids.isin(previous_df[\"imdb_id\"])]\n",
    "        movie_ids_to_get\n",
    "    except:\n",
    "        pass\n",
    "    \n",
    "    #Get index and movie id from list\n",
    "    # INNER Loop\n",
    "    for movie_id in tqdm_notebook(movie_ids,\n",
    "                                  desc=f'Movies from {YEAR}',\n",
    "                                  position=1,\n",
    "                                  leave=True):\n",
    "        try:\n",
    "            # Retrieve then data for the movie id\n",
    "            temp = get_movie_with_rating(movie_id)\n",
    "            # Append/extend results to existing file using a pre-made function\n",
    "            write_json(temp,JSON_FILE)\n",
    "            # Short 20 ms sleep to prevent overwhelming server\n",
    "            time.sleep(0.02)\n",
    "            \n",
    "        except Exception as e:\n",
    "            errors.append([movie_id, e])\n",
    "\n",
    "                \n",
    "    final_year_df = pd.read_json(JSON_FILE)\n",
    "    final_year_df.to_csv(f\"{FOLDER}basic1_tmdb_data_{YEAR}.csv.gz\",\n",
    "                        compression=\"gzip\", index=False)\n",
    "print(f\"- Total errors: {len(errors)}\")   "
   ]
  },
  {
   "cell_type": "markdown",
   "id": "56d314d4",
   "metadata": {},
   "source": [
    "# Using glob to get a list of files that match a pattern"
   ]
  },
  {
   "cell_type": "code",
   "execution_count": 176,
   "id": "0301cb0b",
   "metadata": {},
   "outputs": [
    {
     "data": {
      "text/plain": [
       "['Data/basic1_tmdb_data_2010.csv.gz',\n",
       " 'Data/basic1_tmdb_data_2011.csv.gz',\n",
       " 'Data/basic1_tmdb_data_2012.csv.gz',\n",
       " 'Data/basic1_tmdb_data_2013.csv.gz',\n",
       " 'Data/basic1_tmdb_data_2014.csv.gz',\n",
       " 'Data/basic1_tmdb_data_2015.csv.gz',\n",
       " 'Data/basic1_tmdb_data_2016.csv.gz',\n",
       " 'Data/basic1_tmdb_data_2017.csv.gz',\n",
       " 'Data/basic1_tmdb_data_2018.csv.gz',\n",
       " 'Data/basic1_tmdb_data_2019.csv.gz',\n",
       " 'Data/basic1_tmdb_data_2020.csv.gz',\n",
       " 'Data/basic1_tmdb_data_2021.csv.gz',\n",
       " 'Data/basic1_tmdb_data_2022.csv.gz',\n",
       " 'Data/basic1_tmdb_data_2023.csv.gz']"
      ]
     },
     "execution_count": 176,
     "metadata": {},
     "output_type": "execute_result"
    }
   ],
   "source": [
    "#Looking for any files with this pattern and saving to variable\n",
    "q = \"Data/basic1_tmdb_data_20*.csv.gz\"\n",
    "chunked_files = glob.glob(q)\n",
    "# Showing the first 5\n",
    "sorted(chunked_files)"
   ]
  },
  {
   "cell_type": "code",
   "execution_count": 241,
   "id": "13814186",
   "metadata": {},
   "outputs": [
    {
     "name": "stdout",
     "output_type": "stream",
     "text": [
      "Data/basic1_tmdb_data_2013.csv.gz\n",
      "Data/basic1_tmdb_data_2011.csv.gz\n",
      "Data/basic1_tmdb_data_2015.csv.gz\n",
      "Data/basic1_tmdb_data_2019.csv.gz\n",
      "Data/basic1_tmdb_data_2023.csv.gz\n",
      "Data/basic1_tmdb_data_2017.csv.gz\n",
      "Data/basic1_tmdb_data_2021.csv.gz\n",
      "Data/basic1_tmdb_data_2012.csv.gz\n",
      "Data/basic1_tmdb_data_2010.csv.gz\n",
      "Data/basic1_tmdb_data_2022.csv.gz\n",
      "Data/basic1_tmdb_data_2014.csv.gz\n",
      "Data/basic1_tmdb_data_2018.csv.gz\n",
      "Data/basic1_tmdb_data_2020.csv.gz\n",
      "Data/basic1_tmdb_data_2016.csv.gz\n"
     ]
    }
   ],
   "source": [
    "## Loading all files as df and appending to a list\n",
    "df_list = []\n",
    "for file in chunked_files:\n",
    "    print(file)\n",
    "    temp_df = pd.read_csv(f\"{file}\")\n",
    "    df_list.append(temp_df)\n",
    "\n",
    "# Concatenating the list of dfs into 1 combined\n",
    "df_combined = pd.concat(df_list)\n"
   ]
  },
  {
   "cell_type": "code",
   "execution_count": 242,
   "id": "30008a1a",
   "metadata": {},
   "outputs": [
    {
     "data": {
      "text/html": [
       "<div>\n",
       "<style scoped>\n",
       "    .dataframe tbody tr th:only-of-type {\n",
       "        vertical-align: middle;\n",
       "    }\n",
       "\n",
       "    .dataframe tbody tr th {\n",
       "        vertical-align: top;\n",
       "    }\n",
       "\n",
       "    .dataframe thead th {\n",
       "        text-align: right;\n",
       "    }\n",
       "</style>\n",
       "<table border=\"1\" class=\"dataframe\">\n",
       "  <thead>\n",
       "    <tr style=\"text-align: right;\">\n",
       "      <th></th>\n",
       "      <th>adult</th>\n",
       "      <th>backdrop_path</th>\n",
       "      <th>belongs_to_collection</th>\n",
       "      <th>budget</th>\n",
       "      <th>genres</th>\n",
       "      <th>homepage</th>\n",
       "      <th>id</th>\n",
       "      <th>imdb_id</th>\n",
       "      <th>original_language</th>\n",
       "      <th>original_title</th>\n",
       "      <th>...</th>\n",
       "      <th>revenue</th>\n",
       "      <th>runtime</th>\n",
       "      <th>spoken_languages</th>\n",
       "      <th>status</th>\n",
       "      <th>tagline</th>\n",
       "      <th>title</th>\n",
       "      <th>video</th>\n",
       "      <th>vote_average</th>\n",
       "      <th>vote_count</th>\n",
       "      <th>certification</th>\n",
       "    </tr>\n",
       "  </thead>\n",
       "  <tbody>\n",
       "    <tr>\n",
       "      <th>0</th>\n",
       "      <td>False</td>\n",
       "      <td>/hfeiSfWYujh6MKhtGTXyK3DD4nN.jpg</td>\n",
       "      <td>NaN</td>\n",
       "      <td>48000000</td>\n",
       "      <td>[{'id': 10749, 'name': 'Romance'}, {'id': 14, ...</td>\n",
       "      <td>NaN</td>\n",
       "      <td>11232</td>\n",
       "      <td>tt0035423</td>\n",
       "      <td>en</td>\n",
       "      <td>Kate &amp; Leopold</td>\n",
       "      <td>...</td>\n",
       "      <td>76019048</td>\n",
       "      <td>118</td>\n",
       "      <td>[{'english_name': 'French', 'iso_639_1': 'fr',...</td>\n",
       "      <td>Released</td>\n",
       "      <td>If they lived in the same century, they'd be p...</td>\n",
       "      <td>Kate &amp; Leopold</td>\n",
       "      <td>False</td>\n",
       "      <td>6.330</td>\n",
       "      <td>1216</td>\n",
       "      <td>PG-13</td>\n",
       "    </tr>\n",
       "    <tr>\n",
       "      <th>1</th>\n",
       "      <td>False</td>\n",
       "      <td>/fw5tsNib4QZBEw18xmebpVe3WZ8.jpg</td>\n",
       "      <td>NaN</td>\n",
       "      <td>0</td>\n",
       "      <td>[{'id': 18, 'name': 'Drama'}, {'id': 14, 'name...</td>\n",
       "      <td>http://poetastros.com/el-tango-del-viudo/</td>\n",
       "      <td>602986</td>\n",
       "      <td>tt0062336</td>\n",
       "      <td>es</td>\n",
       "      <td>El tango del viudo y su espejo deformante</td>\n",
       "      <td>...</td>\n",
       "      <td>0</td>\n",
       "      <td>63</td>\n",
       "      <td>[{'english_name': 'Spanish', 'iso_639_1': 'es'...</td>\n",
       "      <td>Released</td>\n",
       "      <td>NaN</td>\n",
       "      <td>The Tango of the Widower and Its Distorting Mi...</td>\n",
       "      <td>False</td>\n",
       "      <td>6.167</td>\n",
       "      <td>6</td>\n",
       "      <td>NaN</td>\n",
       "    </tr>\n",
       "    <tr>\n",
       "      <th>2</th>\n",
       "      <td>False</td>\n",
       "      <td>/7kIfosP2TlzZeD4a8b2He9COnwg.jpg</td>\n",
       "      <td>NaN</td>\n",
       "      <td>0</td>\n",
       "      <td>[{'id': 18, 'name': 'Drama'}]</td>\n",
       "      <td>NaN</td>\n",
       "      <td>124023</td>\n",
       "      <td>tt0068865</td>\n",
       "      <td>en</td>\n",
       "      <td>Lives of Performers</td>\n",
       "      <td>...</td>\n",
       "      <td>0</td>\n",
       "      <td>90</td>\n",
       "      <td>[{'english_name': 'English', 'iso_639_1': 'en'...</td>\n",
       "      <td>Released</td>\n",
       "      <td>NaN</td>\n",
       "      <td>Lives of Performers</td>\n",
       "      <td>False</td>\n",
       "      <td>5.300</td>\n",
       "      <td>3</td>\n",
       "      <td>NaN</td>\n",
       "    </tr>\n",
       "    <tr>\n",
       "      <th>3</th>\n",
       "      <td>False</td>\n",
       "      <td>/wXUcSJG6dqNKgIRgqYqX98UA1wz.jpg</td>\n",
       "      <td>NaN</td>\n",
       "      <td>12000000</td>\n",
       "      <td>[{'id': 18, 'name': 'Drama'}]</td>\n",
       "      <td>https://www.netflix.com/title/80085566</td>\n",
       "      <td>299782</td>\n",
       "      <td>tt0069049</td>\n",
       "      <td>en</td>\n",
       "      <td>The Other Side of the Wind</td>\n",
       "      <td>...</td>\n",
       "      <td>0</td>\n",
       "      <td>122</td>\n",
       "      <td>[{'english_name': 'English', 'iso_639_1': 'en'...</td>\n",
       "      <td>Released</td>\n",
       "      <td>40 years in the making.</td>\n",
       "      <td>The Other Side of the Wind</td>\n",
       "      <td>False</td>\n",
       "      <td>6.700</td>\n",
       "      <td>185</td>\n",
       "      <td>R</td>\n",
       "    </tr>\n",
       "    <tr>\n",
       "      <th>4</th>\n",
       "      <td>False</td>\n",
       "      <td>NaN</td>\n",
       "      <td>NaN</td>\n",
       "      <td>350000</td>\n",
       "      <td>[{'id': 35, 'name': 'Comedy'}, {'id': 27, 'nam...</td>\n",
       "      <td>NaN</td>\n",
       "      <td>29163</td>\n",
       "      <td>tt0088751</td>\n",
       "      <td>en</td>\n",
       "      <td>The Naked Monster</td>\n",
       "      <td>...</td>\n",
       "      <td>0</td>\n",
       "      <td>100</td>\n",
       "      <td>[{'english_name': 'English', 'iso_639_1': 'en'...</td>\n",
       "      <td>Released</td>\n",
       "      <td>NaN</td>\n",
       "      <td>The Naked Monster</td>\n",
       "      <td>False</td>\n",
       "      <td>4.000</td>\n",
       "      <td>6</td>\n",
       "      <td>NaN</td>\n",
       "    </tr>\n",
       "  </tbody>\n",
       "</table>\n",
       "<p>5 rows × 26 columns</p>\n",
       "</div>"
      ],
      "text/plain": [
       "   adult                     backdrop_path belongs_to_collection    budget  \\\n",
       "0  False  /hfeiSfWYujh6MKhtGTXyK3DD4nN.jpg                   NaN  48000000   \n",
       "1  False  /fw5tsNib4QZBEw18xmebpVe3WZ8.jpg                   NaN         0   \n",
       "2  False  /7kIfosP2TlzZeD4a8b2He9COnwg.jpg                   NaN         0   \n",
       "3  False  /wXUcSJG6dqNKgIRgqYqX98UA1wz.jpg                   NaN  12000000   \n",
       "4  False                               NaN                   NaN    350000   \n",
       "\n",
       "                                              genres  \\\n",
       "0  [{'id': 10749, 'name': 'Romance'}, {'id': 14, ...   \n",
       "1  [{'id': 18, 'name': 'Drama'}, {'id': 14, 'name...   \n",
       "2                      [{'id': 18, 'name': 'Drama'}]   \n",
       "3                      [{'id': 18, 'name': 'Drama'}]   \n",
       "4  [{'id': 35, 'name': 'Comedy'}, {'id': 27, 'nam...   \n",
       "\n",
       "                                    homepage      id    imdb_id  \\\n",
       "0                                        NaN   11232  tt0035423   \n",
       "1  http://poetastros.com/el-tango-del-viudo/  602986  tt0062336   \n",
       "2                                        NaN  124023  tt0068865   \n",
       "3     https://www.netflix.com/title/80085566  299782  tt0069049   \n",
       "4                                        NaN   29163  tt0088751   \n",
       "\n",
       "  original_language                             original_title  ...   revenue  \\\n",
       "0                en                             Kate & Leopold  ...  76019048   \n",
       "1                es  El tango del viudo y su espejo deformante  ...         0   \n",
       "2                en                        Lives of Performers  ...         0   \n",
       "3                en                 The Other Side of the Wind  ...         0   \n",
       "4                en                          The Naked Monster  ...         0   \n",
       "\n",
       "   runtime                                   spoken_languages    status  \\\n",
       "0      118  [{'english_name': 'French', 'iso_639_1': 'fr',...  Released   \n",
       "1       63  [{'english_name': 'Spanish', 'iso_639_1': 'es'...  Released   \n",
       "2       90  [{'english_name': 'English', 'iso_639_1': 'en'...  Released   \n",
       "3      122  [{'english_name': 'English', 'iso_639_1': 'en'...  Released   \n",
       "4      100  [{'english_name': 'English', 'iso_639_1': 'en'...  Released   \n",
       "\n",
       "                                             tagline  \\\n",
       "0  If they lived in the same century, they'd be p...   \n",
       "1                                                NaN   \n",
       "2                                                NaN   \n",
       "3                            40 years in the making.   \n",
       "4                                                NaN   \n",
       "\n",
       "                                               title  video  vote_average  \\\n",
       "0                                     Kate & Leopold  False         6.330   \n",
       "1  The Tango of the Widower and Its Distorting Mi...  False         6.167   \n",
       "2                                Lives of Performers  False         5.300   \n",
       "3                         The Other Side of the Wind  False         6.700   \n",
       "4                                  The Naked Monster  False         4.000   \n",
       "\n",
       "  vote_count certification  \n",
       "0       1216         PG-13  \n",
       "1          6           NaN  \n",
       "2          3           NaN  \n",
       "3        185             R  \n",
       "4          6           NaN  \n",
       "\n",
       "[5 rows x 26 columns]"
      ]
     },
     "execution_count": 242,
     "metadata": {},
     "output_type": "execute_result"
    }
   ],
   "source": [
    "#List comprehension to combine files into 1 df\n",
    "## Loading and Concatenating the list of dfs with 1 line\n",
    "df = pd.concat([pd.read_csv(file) for file in chunked_files])\n",
    "df.head()"
   ]
  },
  {
   "cell_type": "markdown",
   "id": "8f6ff7b4",
   "metadata": {},
   "source": [
    "3 Question to Answer:\n",
    "\n",
    "Q1. Does the MPAA rating of a movie (G/PG/PG-13/R) affect how much revenue the movie generates? (ANOVA)\n",
    "\n",
    "Q2. Is there a significant difference in revenue between movies that belong to a collection and those that do not? (T-Test Independent)\n",
    "\n",
    "Q3. Does the release month have an effect on revenue? (ANOVA)"
   ]
  },
  {
   "cell_type": "markdown",
   "id": "b7a39400",
   "metadata": {},
   "source": [
    "## Does the MPAA rating of a movie (G/PG/PG-13/R) affect how much revenue the movie generates?\n",
    "\n",
    "1.State your Null Hypothesis and Alternative Hypothesis\n",
    "\n",
    "   * Null Hypothesis: There is no signifcant difference in revenue between genres.\n",
    "    \n",
    "   * Alternative Hypothesis: There is a significant difference revenue between genres.\n",
    "\n",
    "2.Select the correct test according to the data type and number of samples\n",
    "\n",
    "   * ANOVA \n",
    "\n",
    "3.Test the assumptions of your selected test.\n",
    "\n",
    "   *  No significant outliers\n",
    "   *  Normality\n",
    "   *  Equal Variance\n",
    "\n",
    "4.Execute the selected test, or the alternative test (if you do not meet the assumptions)\n",
    "   \n",
    "   * I'll be looking out for the p-value from the .levene variance test to determine whether to use the nonparametric tests (medians), Kruskal-Wallis.\n",
    "\n",
    "5.Interpret your p-value and reject or fail to reject your null hypothesis \n",
    " \n",
    "    \n",
    "6.Show a supporting visualization that helps display the result\n"
   ]
  },
  {
   "cell_type": "code",
   "execution_count": 243,
   "id": "e158ee54",
   "metadata": {},
   "outputs": [
    {
     "data": {
      "text/plain": [
       "NaN        15563\n",
       "R           7259\n",
       "PG-13       3227\n",
       "PG          1165\n",
       "NR           662\n",
       "G            293\n",
       "NC-17         89\n",
       "Unrated       14\n",
       "Name: certification, dtype: int64"
      ]
     },
     "execution_count": 243,
     "metadata": {},
     "output_type": "execute_result"
    }
   ],
   "source": [
    "#Checking the size of the groups\n",
    "df[\"certification\"].value_counts(dropna=False)"
   ]
  },
  {
   "cell_type": "code",
   "execution_count": 244,
   "id": "ef3fe085",
   "metadata": {},
   "outputs": [],
   "source": [
    "#Dropping unnecessary genres\n",
    "df = df.drop(df[df[\"certification\"] == \"Unrated\"].index)\n",
    "df = df.drop(df[df[\"certification\"] == \"NC-17\"].index)\n",
    "df = df.drop(df[df[\"certification\"] == \"NR\"].index)"
   ]
  },
  {
   "cell_type": "code",
   "execution_count": 245,
   "id": "df4da6bc",
   "metadata": {},
   "outputs": [],
   "source": [
    "#Dropping NaN values in certification columm\n",
    "df = df.dropna(subset=[\"certification\"])"
   ]
  },
  {
   "cell_type": "code",
   "execution_count": 246,
   "id": "02dd14a3",
   "metadata": {},
   "outputs": [
    {
     "data": {
      "text/plain": [
       "dict_keys(['PG-13', 'R', 'PG', 'G'])"
      ]
     },
     "execution_count": 246,
     "metadata": {},
     "output_type": "execute_result"
    }
   ],
   "source": [
    "## Create groups dictionary. There are only 3 groups, but this is even more helpful when there are many groups\n",
    "genre_group = {}\n",
    "## Loop through all unique categories\n",
    "for i in df[\"certification\"].unique():\n",
    "    ## Get series for group and rename\n",
    "    data = df.loc[df[\"certification\"] == i, \"revenue\"].copy()\n",
    "    \n",
    "    # save into the dictionary\n",
    "    genre_group[i] = data\n",
    "genre_group.keys()    "
   ]
  },
  {
   "cell_type": "markdown",
   "id": "fad1ddd4",
   "metadata": {},
   "source": [
    "## Testing Assumptions\n"
   ]
  },
  {
   "cell_type": "markdown",
   "id": "f8fe28e8",
   "metadata": {},
   "source": [
    "### Normality Test"
   ]
  },
  {
   "cell_type": "code",
   "execution_count": 247,
   "id": "08a76775",
   "metadata": {},
   "outputs": [
    {
     "data": {
      "text/html": [
       "<div>\n",
       "<style scoped>\n",
       "    .dataframe tbody tr th:only-of-type {\n",
       "        vertical-align: middle;\n",
       "    }\n",
       "\n",
       "    .dataframe tbody tr th {\n",
       "        vertical-align: top;\n",
       "    }\n",
       "\n",
       "    .dataframe thead th {\n",
       "        text-align: right;\n",
       "    }\n",
       "</style>\n",
       "<table border=\"1\" class=\"dataframe\">\n",
       "  <thead>\n",
       "    <tr style=\"text-align: right;\">\n",
       "      <th></th>\n",
       "      <th>n</th>\n",
       "      <th>p</th>\n",
       "      <th>test stat</th>\n",
       "    </tr>\n",
       "  </thead>\n",
       "  <tbody>\n",
       "    <tr>\n",
       "      <th>PG-13</th>\n",
       "      <td>3087.0</td>\n",
       "      <td>0.000000e+00</td>\n",
       "      <td>1912.925834</td>\n",
       "    </tr>\n",
       "    <tr>\n",
       "      <th>R</th>\n",
       "      <td>6914.0</td>\n",
       "      <td>0.000000e+00</td>\n",
       "      <td>7555.132363</td>\n",
       "    </tr>\n",
       "    <tr>\n",
       "      <th>PG</th>\n",
       "      <td>1120.0</td>\n",
       "      <td>9.420822e-135</td>\n",
       "      <td>617.212130</td>\n",
       "    </tr>\n",
       "    <tr>\n",
       "      <th>G</th>\n",
       "      <td>281.0</td>\n",
       "      <td>4.263729e-26</td>\n",
       "      <td>116.834136</td>\n",
       "    </tr>\n",
       "  </tbody>\n",
       "</table>\n",
       "</div>"
      ],
      "text/plain": [
       "            n              p    test stat\n",
       "PG-13  3087.0   0.000000e+00  1912.925834\n",
       "R      6914.0   0.000000e+00  7555.132363\n",
       "PG     1120.0  9.420822e-135   617.212130\n",
       "G       281.0   4.263729e-26   116.834136"
      ]
     },
     "execution_count": 247,
     "metadata": {},
     "output_type": "execute_result"
    }
   ],
   "source": [
    "## Running normal test on each group and confirming there are >20 in each group\n",
    "norm_results = {}\n",
    "for i, data in genre_group.items():\n",
    "    stat, p = stats.normaltest(data)\n",
    "    ## save the p val, test statistic, and the size of the group\n",
    "    norm_results[i] = {\"n\": len(data),\n",
    "                      \"p\":p,\n",
    "                      \"test stat\":stat}\n",
    "## convert to a dataframe\n",
    "norm_results_df = pd.DataFrame(norm_results).T\n",
    "norm_results_df"
   ]
  },
  {
   "cell_type": "code",
   "execution_count": 248,
   "id": "208a7122",
   "metadata": {},
   "outputs": [
    {
     "data": {
      "text/html": [
       "<div>\n",
       "<style scoped>\n",
       "    .dataframe tbody tr th:only-of-type {\n",
       "        vertical-align: middle;\n",
       "    }\n",
       "\n",
       "    .dataframe tbody tr th {\n",
       "        vertical-align: top;\n",
       "    }\n",
       "\n",
       "    .dataframe thead th {\n",
       "        text-align: right;\n",
       "    }\n",
       "</style>\n",
       "<table border=\"1\" class=\"dataframe\">\n",
       "  <thead>\n",
       "    <tr style=\"text-align: right;\">\n",
       "      <th></th>\n",
       "      <th>n</th>\n",
       "      <th>p</th>\n",
       "      <th>test stat</th>\n",
       "      <th>sig</th>\n",
       "    </tr>\n",
       "  </thead>\n",
       "  <tbody>\n",
       "    <tr>\n",
       "      <th>PG-13</th>\n",
       "      <td>3087.0</td>\n",
       "      <td>0.000000e+00</td>\n",
       "      <td>1912.925834</td>\n",
       "      <td>True</td>\n",
       "    </tr>\n",
       "    <tr>\n",
       "      <th>R</th>\n",
       "      <td>6914.0</td>\n",
       "      <td>0.000000e+00</td>\n",
       "      <td>7555.132363</td>\n",
       "      <td>True</td>\n",
       "    </tr>\n",
       "    <tr>\n",
       "      <th>PG</th>\n",
       "      <td>1120.0</td>\n",
       "      <td>9.420822e-135</td>\n",
       "      <td>617.212130</td>\n",
       "      <td>True</td>\n",
       "    </tr>\n",
       "    <tr>\n",
       "      <th>G</th>\n",
       "      <td>281.0</td>\n",
       "      <td>4.263729e-26</td>\n",
       "      <td>116.834136</td>\n",
       "      <td>True</td>\n",
       "    </tr>\n",
       "  </tbody>\n",
       "</table>\n",
       "</div>"
      ],
      "text/plain": [
       "            n              p    test stat   sig\n",
       "PG-13  3087.0   0.000000e+00  1912.925834  True\n",
       "R      6914.0   0.000000e+00  7555.132363  True\n",
       "PG     1120.0  9.420822e-135   617.212130  True\n",
       "G       281.0   4.263729e-26   116.834136  True"
      ]
     },
     "execution_count": 248,
     "metadata": {},
     "output_type": "execute_result"
    }
   ],
   "source": [
    "### checking sig with pandas \n",
    "norm_results_df[\"sig\"] = norm_results_df[\"p\"] < .05\n",
    "norm_results_df"
   ]
  },
  {
   "cell_type": "markdown",
   "id": "1e4158ae",
   "metadata": {},
   "source": [
    "These groups do not have a normal distribution. However, \"If your group sizes (n) are large enough, we can safely ignore the normality assumption.\""
   ]
  },
  {
   "cell_type": "markdown",
   "id": "7ab941de",
   "metadata": {},
   "source": [
    "### Testing Assumption of Unequal Variance"
   ]
  },
  {
   "cell_type": "code",
   "execution_count": 249,
   "id": "5e4a9e8d",
   "metadata": {},
   "outputs": [
    {
     "data": {
      "text/plain": [
       "LeveneResult(statistic=374.2676767736281, pvalue=7.375343321584666e-232)"
      ]
     },
     "execution_count": 249,
     "metadata": {},
     "output_type": "execute_result"
    }
   ],
   "source": [
    "# with the * operator \n",
    "stats.levene(*genre_group.values())"
   ]
  },
  {
   "cell_type": "markdown",
   "id": "6208ab41",
   "metadata": {},
   "source": [
    "Levene pvalue < .05, so this is showing it is NOT of equal variance. Meaning that we reject the null hypothesis."
   ]
  },
  {
   "cell_type": "markdown",
   "id": "1a686d47",
   "metadata": {},
   "source": [
    "### Checking for Outliers"
   ]
  },
  {
   "cell_type": "code",
   "execution_count": 250,
   "id": "711c9cd0",
   "metadata": {},
   "outputs": [
    {
     "name": "stdout",
     "output_type": "stream",
     "text": [
      "There were 89 outliers in the PG-13 group.\n",
      "There were 130 outliers in the R group.\n",
      "There were 29 outliers in the PG group.\n",
      "There were 15 outliers in the G group.\n"
     ]
    }
   ],
   "source": [
    "## Loop through groups dict\n",
    "for i, data in genre_group.items():\n",
    "\n",
    "    ## determine if there are any outliers\n",
    "    outliers = np.abs(stats.zscore(data)) > 3\n",
    "    \n",
    "    ## print a statement about how many outliers for which group name\n",
    "    print(f\"There were {outliers.sum()} outliers in the {i} group.\")\n",
    "\n",
    "    ## Remove the outiers from data and overwrite the sector data in the dict\n",
    "    data = data.loc[~outliers]\n",
    "    genre_group[i] = data"
   ]
  },
  {
   "cell_type": "markdown",
   "id": "3a2bef8c",
   "metadata": {},
   "source": [
    "### Kruskal Test"
   ]
  },
  {
   "cell_type": "code",
   "execution_count": 251,
   "id": "c7dcceb0",
   "metadata": {},
   "outputs": [
    {
     "name": "stdout",
     "output_type": "stream",
     "text": [
      "Kruskal Result: statistic=1512.2995693364735, pvalue=0.0\n",
      "Revenue significantly differ among the genres.\n"
     ]
    }
   ],
   "source": [
    "# Perform Kruskal-Wallis test\n",
    "h_statistic, p_value = stats.kruskal(*genre_group.values())\n",
    "\n",
    "print(f\"Kruskal Result: statistic={h_statistic}, pvalue={p_value}\")\n",
    "# Interpret the result\n",
    "print(\"Revenue significantly differ among the genres.\")"
   ]
  },
  {
   "cell_type": "markdown",
   "id": "a6b604d5",
   "metadata": {},
   "source": [
    "## Post-hoc multiple comparison tests"
   ]
  },
  {
   "cell_type": "code",
   "execution_count": 252,
   "id": "8354ce5d",
   "metadata": {},
   "outputs": [],
   "source": [
    "## save the values of revenu and the labels to the certifications\n",
    "values = df['revenue']\n",
    "labels = df['certification']"
   ]
  },
  {
   "cell_type": "code",
   "execution_count": 253,
   "id": "6d7412e9",
   "metadata": {},
   "outputs": [
    {
     "data": {
      "text/html": [
       "<table class=\"simpletable\">\n",
       "<caption>Multiple Comparison of Means - Tukey HSD, FWER=0.05</caption>\n",
       "<tr>\n",
       "  <th>group1</th> <th>group2</th>    <th>meandiff</th>     <th>p-adj</th>      <th>lower</th>           <th>upper</th>     <th>reject</th>\n",
       "</tr>\n",
       "<tr>\n",
       "     <td>G</td>     <td>PG</td>   <td>-15772750.5325</td> <td>0.2369</td> <td>-37335658.0467</td>   <td>5790156.9816</td>   <td>False</td>\n",
       "</tr>\n",
       "<tr>\n",
       "     <td>G</td>    <td>PG-13</td> <td>-13419595.4326</td> <td>0.3173</td> <td>-33557533.0197</td>   <td>6718342.1545</td>   <td>False</td>\n",
       "</tr>\n",
       "<tr>\n",
       "     <td>G</td>      <td>R</td>   <td>-94809465.5555</td>   <td>0.0</td>  <td>-114476911.9616</td> <td>-75142019.1494</td>  <td>True</td> \n",
       "</tr>\n",
       "<tr>\n",
       "    <td>PG</td>    <td>PG-13</td>  <td>2353155.0999</td>  <td>0.9502</td>  <td>-8920360.0744</td>   <td>13626670.2743</td>  <td>False</td>\n",
       "</tr>\n",
       "<tr>\n",
       "    <td>PG</td>      <td>R</td>   <td>-79036715.0229</td>   <td>0.0</td>  <td>-89446521.0855</td>  <td>-68626908.9603</td>  <td>True</td> \n",
       "</tr>\n",
       "<tr>\n",
       "   <td>PG-13</td>    <td>R</td>   <td>-81389870.1229</td>   <td>0.0</td>  <td>-88385698.3124</td>  <td>-74394041.9334</td>  <td>True</td> \n",
       "</tr>\n",
       "</table>"
      ],
      "text/plain": [
       "<class 'statsmodels.iolib.table.SimpleTable'>"
      ]
     },
     "execution_count": 253,
     "metadata": {},
     "output_type": "execute_result"
    }
   ],
   "source": [
    "## perform tukey's multiple comparison test and display the summary\n",
    "tukeys_results = pairwise_tukeyhsd(values,labels)\n",
    "tukeys_results.summary()"
   ]
  },
  {
   "cell_type": "markdown",
   "id": "7427c34b",
   "metadata": {},
   "source": [
    "The test shows that there is a significant difference in the results with the R-rated genre.  The revenue was significantly higher for those R-rated movies.\n",
    "\n",
    "Therefore, I reject the null hypothesis and choose the alternative hypothesis: There is a significant difference revenue between genres."
   ]
  },
  {
   "cell_type": "markdown",
   "id": "aa8e52d7",
   "metadata": {},
   "source": [
    "# Is there a significant difference in revenue between movies that belong to a collection and those that do not?"
   ]
  },
  {
   "cell_type": "code",
   "execution_count": null,
   "id": "ba309593",
   "metadata": {},
   "outputs": [],
   "source": []
  }
 ],
 "metadata": {
  "kernelspec": {
   "display_name": "Python (dojo-env)",
   "language": "python",
   "name": "dojo-env"
  },
  "language_info": {
   "codemirror_mode": {
    "name": "ipython",
    "version": 3
   },
   "file_extension": ".py",
   "mimetype": "text/x-python",
   "name": "python",
   "nbconvert_exporter": "python",
   "pygments_lexer": "ipython3",
   "version": "3.9.15"
  },
  "toc": {
   "base_numbering": 1,
   "nav_menu": {},
   "number_sections": true,
   "sideBar": true,
   "skip_h1_title": false,
   "title_cell": "Table of Contents",
   "title_sidebar": "Contents",
   "toc_cell": false,
   "toc_position": {},
   "toc_section_display": true,
   "toc_window_display": false
  },
  "varInspector": {
   "cols": {
    "lenName": 16,
    "lenType": 16,
    "lenVar": 40
   },
   "kernels_config": {
    "python": {
     "delete_cmd_postfix": "",
     "delete_cmd_prefix": "del ",
     "library": "var_list.py",
     "varRefreshCmd": "print(var_dic_list())"
    },
    "r": {
     "delete_cmd_postfix": ") ",
     "delete_cmd_prefix": "rm(",
     "library": "var_list.r",
     "varRefreshCmd": "cat(var_dic_list()) "
    }
   },
   "types_to_exclude": [
    "module",
    "function",
    "builtin_function_or_method",
    "instance",
    "_Feature"
   ],
   "window_display": false
  }
 },
 "nbformat": 4,
 "nbformat_minor": 5
}
